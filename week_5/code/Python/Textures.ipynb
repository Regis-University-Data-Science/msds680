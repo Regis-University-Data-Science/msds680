{
 "cells": [
  {
   "cell_type": "code",
   "execution_count": 1,
   "metadata": {},
   "outputs": [],
   "source": [
    "import pandas as pd\n",
    "import numpy as np\n",
    "from sklearn.model_selection import train_test_split"
   ]
  },
  {
   "cell_type": "code",
   "execution_count": 2,
   "metadata": {},
   "outputs": [],
   "source": [
    "df = pd.read_csv('/Users/mbusch/OneDrive - Regis University/MSDS/680/Week_5/texture.dat', skiprows=45)"
   ]
  },
  {
   "cell_type": "code",
   "execution_count": 3,
   "metadata": {},
   "outputs": [],
   "source": [
    "features = ['A' + str(x) for x in range(1,41)]\n",
    "df.columns = features + [\"Class\"]"
   ]
  },
  {
   "cell_type": "code",
   "execution_count": 4,
   "metadata": {},
   "outputs": [
    {
     "data": {
      "text/plain": [
       "Index(['A1', 'A2', 'A3', 'A4', 'A5', 'A6', 'A7', 'A8', 'A9', 'A10', 'A11',\n",
       "       'A12', 'A13', 'A14', 'A15', 'A16', 'A17', 'A18', 'A19', 'A20', 'A21',\n",
       "       'A22', 'A23', 'A24', 'A25', 'A26', 'A27', 'A28', 'A29', 'A30', 'A31',\n",
       "       'A32', 'A33', 'A34', 'A35', 'A36', 'A37', 'A38', 'A39', 'A40', 'Class'],\n",
       "      dtype='object')"
      ]
     },
     "execution_count": 4,
     "metadata": {},
     "output_type": "execute_result"
    }
   ],
   "source": [
    "df.columns"
   ]
  },
  {
   "cell_type": "code",
   "execution_count": 5,
   "metadata": {},
   "outputs": [
    {
     "data": {
      "text/html": [
       "<div>\n",
       "<style scoped>\n",
       "    .dataframe tbody tr th:only-of-type {\n",
       "        vertical-align: middle;\n",
       "    }\n",
       "\n",
       "    .dataframe tbody tr th {\n",
       "        vertical-align: top;\n",
       "    }\n",
       "\n",
       "    .dataframe thead th {\n",
       "        text-align: right;\n",
       "    }\n",
       "</style>\n",
       "<table border=\"1\" class=\"dataframe\">\n",
       "  <thead>\n",
       "    <tr style=\"text-align: right;\">\n",
       "      <th></th>\n",
       "      <th>A1</th>\n",
       "      <th>A2</th>\n",
       "      <th>A3</th>\n",
       "      <th>A4</th>\n",
       "      <th>A5</th>\n",
       "      <th>A6</th>\n",
       "      <th>A7</th>\n",
       "      <th>A8</th>\n",
       "      <th>A9</th>\n",
       "      <th>A10</th>\n",
       "      <th>...</th>\n",
       "      <th>A32</th>\n",
       "      <th>A33</th>\n",
       "      <th>A34</th>\n",
       "      <th>A35</th>\n",
       "      <th>A36</th>\n",
       "      <th>A37</th>\n",
       "      <th>A38</th>\n",
       "      <th>A39</th>\n",
       "      <th>A40</th>\n",
       "      <th>Class</th>\n",
       "    </tr>\n",
       "  </thead>\n",
       "  <tbody>\n",
       "    <tr>\n",
       "      <th>0</th>\n",
       "      <td>-1.410</td>\n",
       "      <td>-1.029</td>\n",
       "      <td>-1.013</td>\n",
       "      <td>-0.895</td>\n",
       "      <td>-0.762</td>\n",
       "      <td>-0.676</td>\n",
       "      <td>-1.043</td>\n",
       "      <td>-0.851</td>\n",
       "      <td>-0.775</td>\n",
       "      <td>-1.037</td>\n",
       "      <td>...</td>\n",
       "      <td>-0.919</td>\n",
       "      <td>-0.770</td>\n",
       "      <td>-0.847</td>\n",
       "      <td>-0.663</td>\n",
       "      <td>-0.723</td>\n",
       "      <td>-1.013</td>\n",
       "      <td>-0.748</td>\n",
       "      <td>-0.698</td>\n",
       "      <td>-0.817</td>\n",
       "      <td>2</td>\n",
       "    </tr>\n",
       "    <tr>\n",
       "      <th>1</th>\n",
       "      <td>-1.107</td>\n",
       "      <td>-0.649</td>\n",
       "      <td>-0.629</td>\n",
       "      <td>-0.492</td>\n",
       "      <td>-0.367</td>\n",
       "      <td>-0.298</td>\n",
       "      <td>-0.682</td>\n",
       "      <td>-0.478</td>\n",
       "      <td>-0.395</td>\n",
       "      <td>-0.681</td>\n",
       "      <td>...</td>\n",
       "      <td>-0.692</td>\n",
       "      <td>-0.445</td>\n",
       "      <td>-0.588</td>\n",
       "      <td>-0.371</td>\n",
       "      <td>-0.368</td>\n",
       "      <td>-0.746</td>\n",
       "      <td>-0.457</td>\n",
       "      <td>-0.379</td>\n",
       "      <td>-0.469</td>\n",
       "      <td>2</td>\n",
       "    </tr>\n",
       "    <tr>\n",
       "      <th>2</th>\n",
       "      <td>-1.270</td>\n",
       "      <td>-0.855</td>\n",
       "      <td>-0.958</td>\n",
       "      <td>-0.707</td>\n",
       "      <td>-0.619</td>\n",
       "      <td>-0.469</td>\n",
       "      <td>-0.872</td>\n",
       "      <td>-0.705</td>\n",
       "      <td>-0.620</td>\n",
       "      <td>-0.988</td>\n",
       "      <td>...</td>\n",
       "      <td>-0.829</td>\n",
       "      <td>-0.719</td>\n",
       "      <td>-0.774</td>\n",
       "      <td>-0.617</td>\n",
       "      <td>-0.688</td>\n",
       "      <td>-0.937</td>\n",
       "      <td>-0.693</td>\n",
       "      <td>-0.657</td>\n",
       "      <td>-0.779</td>\n",
       "      <td>2</td>\n",
       "    </tr>\n",
       "    <tr>\n",
       "      <th>3</th>\n",
       "      <td>-1.331</td>\n",
       "      <td>-0.862</td>\n",
       "      <td>-0.761</td>\n",
       "      <td>-0.689</td>\n",
       "      <td>-0.498</td>\n",
       "      <td>-0.361</td>\n",
       "      <td>-0.857</td>\n",
       "      <td>-0.600</td>\n",
       "      <td>-0.496</td>\n",
       "      <td>-0.779</td>\n",
       "      <td>...</td>\n",
       "      <td>-0.861</td>\n",
       "      <td>-0.571</td>\n",
       "      <td>-0.784</td>\n",
       "      <td>-0.545</td>\n",
       "      <td>-0.562</td>\n",
       "      <td>-0.952</td>\n",
       "      <td>-0.642</td>\n",
       "      <td>-0.578</td>\n",
       "      <td>-0.648</td>\n",
       "      <td>2</td>\n",
       "    </tr>\n",
       "    <tr>\n",
       "      <th>4</th>\n",
       "      <td>-1.049</td>\n",
       "      <td>-0.632</td>\n",
       "      <td>-0.607</td>\n",
       "      <td>-0.469</td>\n",
       "      <td>-0.381</td>\n",
       "      <td>-0.315</td>\n",
       "      <td>-0.557</td>\n",
       "      <td>-0.403</td>\n",
       "      <td>-0.353</td>\n",
       "      <td>-0.566</td>\n",
       "      <td>...</td>\n",
       "      <td>-0.647</td>\n",
       "      <td>-0.436</td>\n",
       "      <td>-0.650</td>\n",
       "      <td>-0.452</td>\n",
       "      <td>-0.530</td>\n",
       "      <td>-0.835</td>\n",
       "      <td>-0.564</td>\n",
       "      <td>-0.537</td>\n",
       "      <td>-0.582</td>\n",
       "      <td>2</td>\n",
       "    </tr>\n",
       "  </tbody>\n",
       "</table>\n",
       "<p>5 rows × 41 columns</p>\n",
       "</div>"
      ],
      "text/plain": [
       "      A1     A2     A3     A4     A5     A6     A7     A8     A9    A10  \\\n",
       "0 -1.410 -1.029 -1.013 -0.895 -0.762 -0.676 -1.043 -0.851 -0.775 -1.037   \n",
       "1 -1.107 -0.649 -0.629 -0.492 -0.367 -0.298 -0.682 -0.478 -0.395 -0.681   \n",
       "2 -1.270 -0.855 -0.958 -0.707 -0.619 -0.469 -0.872 -0.705 -0.620 -0.988   \n",
       "3 -1.331 -0.862 -0.761 -0.689 -0.498 -0.361 -0.857 -0.600 -0.496 -0.779   \n",
       "4 -1.049 -0.632 -0.607 -0.469 -0.381 -0.315 -0.557 -0.403 -0.353 -0.566   \n",
       "\n",
       "   ...      A32    A33    A34    A35    A36    A37    A38    A39    A40  Class  \n",
       "0  ...   -0.919 -0.770 -0.847 -0.663 -0.723 -1.013 -0.748 -0.698 -0.817      2  \n",
       "1  ...   -0.692 -0.445 -0.588 -0.371 -0.368 -0.746 -0.457 -0.379 -0.469      2  \n",
       "2  ...   -0.829 -0.719 -0.774 -0.617 -0.688 -0.937 -0.693 -0.657 -0.779      2  \n",
       "3  ...   -0.861 -0.571 -0.784 -0.545 -0.562 -0.952 -0.642 -0.578 -0.648      2  \n",
       "4  ...   -0.647 -0.436 -0.650 -0.452 -0.530 -0.835 -0.564 -0.537 -0.582      2  \n",
       "\n",
       "[5 rows x 41 columns]"
      ]
     },
     "execution_count": 5,
     "metadata": {},
     "output_type": "execute_result"
    }
   ],
   "source": [
    "df.head()"
   ]
  },
  {
   "cell_type": "code",
   "execution_count": 6,
   "metadata": {},
   "outputs": [],
   "source": [
    "feature_vals = df[features].values\n",
    "target = df['Class'].values"
   ]
  },
  {
   "cell_type": "code",
   "execution_count": 7,
   "metadata": {},
   "outputs": [],
   "source": [
    "X_train, X_test, y_train, y_test = train_test_split(feature_vals, target, test_size=0.2, random_state=42)"
   ]
  },
  {
   "cell_type": "code",
   "execution_count": 8,
   "metadata": {},
   "outputs": [],
   "source": [
    "# force to use CPU for testing\n",
    "import os\n",
    "os.environ[\"CUDA_DEVICE_ORDER\"] = \"PCI_BUS_ID\"   # see issue #152\n",
    "os.environ[\"CUDA_VISIBLE_DEVICES\"] = \"\""
   ]
  },
  {
   "cell_type": "code",
   "execution_count": 9,
   "metadata": {},
   "outputs": [
    {
     "name": "stderr",
     "output_type": "stream",
     "text": [
      "Using TensorFlow backend.\n",
      "/Users/mbusch/anaconda3/lib/python3.6/importlib/_bootstrap.py:219: RuntimeWarning: compiletime version 3.5 of module 'tensorflow.python.framework.fast_tensor_util' does not match runtime version 3.6\n",
      "  return f(*args, **kwds)\n"
     ]
    }
   ],
   "source": [
    "# from keras.utils import to_categorical\n",
    "# from keras.models import Model\n",
    "# from keras.layers import Input, Dense, Dropout, BatchNormalization\n",
    "# import keras.backend as K\n",
    "\n",
    "from keras.layers import Input, Dense, Dropout, BatchNormalization\n",
    "from keras.models import Model, load_model\n",
    "import keras.backend as K\n",
    "from keras.callbacks import ModelCheckpoint"
   ]
  },
  {
   "cell_type": "code",
   "execution_count": null,
   "metadata": {},
   "outputs": [],
   "source": [
    "# model = Sequential()"
   ]
  },
  {
   "cell_type": "code",
   "execution_count": 10,
   "metadata": {},
   "outputs": [
    {
     "data": {
      "text/plain": [
       "(5499, 40)"
      ]
     },
     "execution_count": 10,
     "metadata": {},
     "output_type": "execute_result"
    }
   ],
   "source": [
    "feature_vals.shape"
   ]
  },
  {
   "cell_type": "code",
   "execution_count": 12,
   "metadata": {},
   "outputs": [],
   "source": [
    "# restart keras session (clear weights), sometimes this will clear up errors\n",
    "K.clear_session()\n",
    "\n",
    "# Input - Layer\n",
    "\n",
    "# model.add(Dense(50, input_shape=(feature_vals.shape[1], )))\n",
    "\n",
    "# # Hidden - Layers\n",
    "# model.add(Dropout(0.3))\n",
    "# model.add(Dense(50, activation = \"relu\"))\n",
    "# model.add(Dropout(0.2))\n",
    "# model.add(Dense(50, activation = \"relu\"))\n",
    "\n",
    "# # Output- Layer\n",
    "# model.add(Dense(1, activation = \"sigmoid\"))\n",
    "\n",
    "# model.summary()\n",
    "\n",
    "# functional API\n",
    "inputs = Input(shape=(feature_vals.shape[1], ))\n",
    "x1 = Dense(10, activation='elu')(inputs)\n",
    "x2 = BatchNormalization()(x1)\n",
    "x3 = Dropout(0.5)(x2)\n",
    "x = Dense(1, activation='linear')(x3)"
   ]
  },
  {
   "cell_type": "code",
   "execution_count": 13,
   "metadata": {},
   "outputs": [],
   "source": [
    "# model.compile(\n",
    "#  optimizer = \"adam\",\n",
    "#  loss = \"binary_crossentropy\",\n",
    "#  metrics = [\"accuracy\"]\n",
    "# )\n",
    "\n",
    "# this compiles our model so it is ready to fit\n",
    "model = Model(inputs, x)\n",
    "model.compile(optimizer='adam', loss='mse')"
   ]
  },
  {
   "cell_type": "code",
   "execution_count": 14,
   "metadata": {},
   "outputs": [
    {
     "name": "stdout",
     "output_type": "stream",
     "text": [
      "_________________________________________________________________\n",
      "Layer (type)                 Output Shape              Param #   \n",
      "=================================================================\n",
      "input_1 (InputLayer)         (None, 40)                0         \n",
      "_________________________________________________________________\n",
      "dense_1 (Dense)              (None, 10)                410       \n",
      "_________________________________________________________________\n",
      "batch_normalization_1 (Batch (None, 10)                40        \n",
      "_________________________________________________________________\n",
      "dropout_1 (Dropout)          (None, 10)                0         \n",
      "_________________________________________________________________\n",
      "dense_2 (Dense)              (None, 1)                 11        \n",
      "=================================================================\n",
      "Total params: 461\n",
      "Trainable params: 441\n",
      "Non-trainable params: 20\n",
      "_________________________________________________________________\n"
     ]
    }
   ],
   "source": [
    "# results = model.fit(\n",
    "#  X_train, y_train,\n",
    "#  epochs= 2,\n",
    "#  batch_size = 500,\n",
    "#  validation_data = (X_test, y_test)\n",
    "# )\n",
    "\n",
    "model.summary()"
   ]
  },
  {
   "cell_type": "code",
   "execution_count": 15,
   "metadata": {},
   "outputs": [
    {
     "data": {
      "text/plain": [
       "(4399, 40)"
      ]
     },
     "execution_count": 15,
     "metadata": {},
     "output_type": "execute_result"
    }
   ],
   "source": [
    "X_train.shape"
   ]
  },
  {
   "cell_type": "code",
   "execution_count": 16,
   "metadata": {},
   "outputs": [
    {
     "name": "stdout",
     "output_type": "stream",
     "text": [
      "Train on 3739 samples, validate on 660 samples\n",
      "Epoch 1/500\n",
      "3739/3739 [==============================] - 0s 132us/step - loss: 80.7985 - val_loss: 76.6178\n",
      "Epoch 2/500\n",
      "3739/3739 [==============================] - 0s 3us/step - loss: 80.3918 - val_loss: 73.9695\n",
      "Epoch 3/500\n",
      "3739/3739 [==============================] - 0s 3us/step - loss: 78.9724 - val_loss: 70.6109\n",
      "Epoch 4/500\n",
      "3739/3739 [==============================] - 0s 3us/step - loss: 78.7548 - val_loss: 67.1083\n",
      "Epoch 5/500\n",
      "3739/3739 [==============================] - 0s 3us/step - loss: 77.4281 - val_loss: 63.9416\n",
      "Epoch 6/500\n",
      "3739/3739 [==============================] - 0s 3us/step - loss: 77.0746 - val_loss: 60.8546\n",
      "Epoch 7/500\n",
      "3739/3739 [==============================] - 0s 3us/step - loss: 75.9070 - val_loss: 58.8115\n",
      "Epoch 8/500\n",
      "3739/3739 [==============================] - 0s 3us/step - loss: 76.2058 - val_loss: 59.0599\n",
      "Epoch 9/500\n",
      "3739/3739 [==============================] - 0s 3us/step - loss: 74.8353 - val_loss: 62.9503\n",
      "Epoch 10/500\n",
      "3739/3739 [==============================] - 0s 3us/step - loss: 74.5559 - val_loss: 68.8718\n",
      "Epoch 11/500\n",
      "3739/3739 [==============================] - 0s 3us/step - loss: 73.0449 - val_loss: 73.9223\n",
      "Epoch 12/500\n",
      "3739/3739 [==============================] - 0s 3us/step - loss: 73.2413 - val_loss: 75.5246\n",
      "Epoch 13/500\n",
      "3739/3739 [==============================] - 0s 3us/step - loss: 73.1354 - val_loss: 75.1458\n",
      "Epoch 14/500\n",
      "3739/3739 [==============================] - 0s 4us/step - loss: 72.0377 - val_loss: 75.1225\n",
      "Epoch 15/500\n",
      "3739/3739 [==============================] - 0s 4us/step - loss: 71.5563 - val_loss: 75.2171\n",
      "Epoch 16/500\n",
      "3739/3739 [==============================] - 0s 4us/step - loss: 70.4214 - val_loss: 74.1791\n",
      "Epoch 17/500\n",
      "3739/3739 [==============================] - 0s 4us/step - loss: 70.0710 - val_loss: 72.1513\n",
      "Epoch 18/500\n",
      "3739/3739 [==============================] - 0s 3us/step - loss: 69.9910 - val_loss: 70.9902\n",
      "Epoch 19/500\n",
      "3739/3739 [==============================] - 0s 3us/step - loss: 69.1418 - val_loss: 70.3835\n",
      "Epoch 20/500\n",
      "3739/3739 [==============================] - 0s 3us/step - loss: 68.9252 - val_loss: 70.1962\n",
      "Epoch 21/500\n",
      "3739/3739 [==============================] - 0s 3us/step - loss: 68.7007 - val_loss: 70.0279\n",
      "Epoch 22/500\n",
      "3739/3739 [==============================] - 0s 3us/step - loss: 67.9786 - val_loss: 70.5166\n",
      "Epoch 23/500\n",
      "3739/3739 [==============================] - 0s 3us/step - loss: 67.3265 - val_loss: 69.9525\n",
      "Epoch 24/500\n",
      "3739/3739 [==============================] - 0s 3us/step - loss: 66.8481 - val_loss: 67.0145\n",
      "Epoch 25/500\n",
      "3739/3739 [==============================] - 0s 3us/step - loss: 65.9910 - val_loss: 62.4728\n",
      "Epoch 26/500\n",
      "3739/3739 [==============================] - 0s 3us/step - loss: 66.0394 - val_loss: 58.4635\n",
      "Epoch 27/500\n",
      "3739/3739 [==============================] - 0s 3us/step - loss: 65.5737 - val_loss: 57.4433\n",
      "Epoch 28/500\n",
      "3739/3739 [==============================] - 0s 3us/step - loss: 65.5422 - val_loss: 57.3820\n",
      "Epoch 29/500\n",
      "3739/3739 [==============================] - 0s 3us/step - loss: 64.9579 - val_loss: 57.6915\n",
      "Epoch 30/500\n",
      "3739/3739 [==============================] - 0s 3us/step - loss: 64.3614 - val_loss: 56.4181\n",
      "Epoch 31/500\n",
      "3739/3739 [==============================] - 0s 3us/step - loss: 62.8790 - val_loss: 52.6831\n",
      "Epoch 32/500\n",
      "3739/3739 [==============================] - 0s 3us/step - loss: 62.8873 - val_loss: 50.5133\n",
      "Epoch 33/500\n",
      "3739/3739 [==============================] - 0s 3us/step - loss: 62.5758 - val_loss: 51.7578\n",
      "Epoch 34/500\n",
      "3739/3739 [==============================] - 0s 3us/step - loss: 62.1595 - val_loss: 53.6219\n",
      "Epoch 35/500\n",
      "3739/3739 [==============================] - 0s 3us/step - loss: 61.6139 - val_loss: 51.4548\n",
      "Epoch 36/500\n",
      "3739/3739 [==============================] - 0s 3us/step - loss: 61.1509 - val_loss: 50.4012\n",
      "Epoch 37/500\n",
      "3739/3739 [==============================] - 0s 3us/step - loss: 60.9631 - val_loss: 48.2491\n",
      "Epoch 38/500\n",
      "3739/3739 [==============================] - 0s 3us/step - loss: 60.6761 - val_loss: 46.0854\n",
      "Epoch 39/500\n",
      "3739/3739 [==============================] - 0s 3us/step - loss: 59.4691 - val_loss: 43.7026\n",
      "Epoch 40/500\n",
      "3739/3739 [==============================] - 0s 3us/step - loss: 59.1831 - val_loss: 43.1216\n",
      "Epoch 41/500\n",
      "3739/3739 [==============================] - 0s 3us/step - loss: 58.4223 - val_loss: 42.8106\n",
      "Epoch 42/500\n",
      "3739/3739 [==============================] - 0s 3us/step - loss: 58.0198 - val_loss: 39.1191\n",
      "Epoch 43/500\n",
      "3739/3739 [==============================] - 0s 3us/step - loss: 57.4948 - val_loss: 34.5863\n",
      "Epoch 44/500\n",
      "3739/3739 [==============================] - 0s 3us/step - loss: 57.3995 - val_loss: 34.3194\n",
      "Epoch 45/500\n",
      "3739/3739 [==============================] - 0s 4us/step - loss: 56.9770 - val_loss: 40.1130\n",
      "Epoch 46/500\n",
      "3739/3739 [==============================] - 0s 4us/step - loss: 56.1352 - val_loss: 41.1946\n",
      "Epoch 47/500\n",
      "3739/3739 [==============================] - 0s 3us/step - loss: 55.6999 - val_loss: 35.7754\n",
      "Epoch 48/500\n",
      "3739/3739 [==============================] - 0s 3us/step - loss: 54.7696 - val_loss: 29.3435\n",
      "Epoch 49/500\n",
      "3739/3739 [==============================] - 0s 3us/step - loss: 54.6599 - val_loss: 29.5641\n",
      "Epoch 50/500\n",
      "3739/3739 [==============================] - 0s 3us/step - loss: 54.2767 - val_loss: 31.6086\n",
      "Epoch 51/500\n",
      "3739/3739 [==============================] - 0s 3us/step - loss: 53.1053 - val_loss: 30.6973\n",
      "Epoch 52/500\n",
      "3739/3739 [==============================] - 0s 4us/step - loss: 52.8958 - val_loss: 27.8377\n",
      "Epoch 53/500\n",
      "3739/3739 [==============================] - 0s 3us/step - loss: 53.0750 - val_loss: 27.1896\n",
      "Epoch 54/500\n",
      "3739/3739 [==============================] - 0s 3us/step - loss: 52.3970 - val_loss: 27.1424\n",
      "Epoch 55/500\n",
      "3739/3739 [==============================] - 0s 3us/step - loss: 50.9873 - val_loss: 27.9745\n",
      "Epoch 56/500\n",
      "3739/3739 [==============================] - 0s 3us/step - loss: 52.1489 - val_loss: 27.8236\n",
      "Epoch 57/500\n",
      "3739/3739 [==============================] - 0s 3us/step - loss: 51.0054 - val_loss: 23.6192\n",
      "Epoch 58/500\n",
      "3739/3739 [==============================] - 0s 3us/step - loss: 49.4799 - val_loss: 21.5846\n",
      "Epoch 59/500\n",
      "3739/3739 [==============================] - 0s 3us/step - loss: 48.9982 - val_loss: 27.0806\n",
      "Epoch 60/500\n",
      "3739/3739 [==============================] - 0s 3us/step - loss: 49.1456 - val_loss: 28.4440\n",
      "Epoch 61/500\n",
      "3739/3739 [==============================] - 0s 3us/step - loss: 48.6283 - val_loss: 24.4900\n",
      "Epoch 62/500\n",
      "3739/3739 [==============================] - 0s 3us/step - loss: 47.7193 - val_loss: 23.0712\n",
      "Epoch 63/500\n",
      "3739/3739 [==============================] - 0s 3us/step - loss: 47.3299 - val_loss: 25.8208\n",
      "Epoch 64/500\n",
      "3739/3739 [==============================] - 0s 3us/step - loss: 47.7179 - val_loss: 26.5284\n",
      "Epoch 65/500\n",
      "3739/3739 [==============================] - 0s 2us/step - loss: 46.0238 - val_loss: 23.2434\n",
      "Epoch 66/500\n",
      "3739/3739 [==============================] - 0s 3us/step - loss: 46.2339 - val_loss: 21.8079\n",
      "Epoch 67/500\n",
      "3739/3739 [==============================] - 0s 3us/step - loss: 44.3266 - val_loss: 22.1000\n",
      "Epoch 68/500\n",
      "3739/3739 [==============================] - 0s 3us/step - loss: 44.1527 - val_loss: 22.3011\n",
      "Epoch 69/500\n",
      "3739/3739 [==============================] - 0s 3us/step - loss: 43.8852 - val_loss: 22.4998\n",
      "Epoch 70/500\n",
      "3739/3739 [==============================] - 0s 3us/step - loss: 44.0857 - val_loss: 22.6180\n",
      "Epoch 71/500\n",
      "3739/3739 [==============================] - 0s 3us/step - loss: 42.6301 - val_loss: 20.6053\n",
      "Epoch 72/500\n",
      "3739/3739 [==============================] - 0s 2us/step - loss: 42.9018 - val_loss: 21.5712\n",
      "Epoch 73/500\n",
      "3739/3739 [==============================] - 0s 3us/step - loss: 41.8982 - val_loss: 21.8647\n",
      "Epoch 74/500\n",
      "3739/3739 [==============================] - 0s 2us/step - loss: 41.6134 - val_loss: 21.0758\n",
      "Epoch 75/500\n",
      "3739/3739 [==============================] - 0s 3us/step - loss: 41.8486 - val_loss: 21.9995\n",
      "Epoch 76/500\n",
      "3739/3739 [==============================] - 0s 3us/step - loss: 40.2974 - val_loss: 20.0359\n",
      "Epoch 77/500\n",
      "3739/3739 [==============================] - 0s 3us/step - loss: 39.6762 - val_loss: 17.6869\n",
      "Epoch 78/500\n",
      "3739/3739 [==============================] - 0s 3us/step - loss: 39.1518 - val_loss: 19.2510\n",
      "Epoch 79/500\n",
      "3739/3739 [==============================] - 0s 3us/step - loss: 38.6223 - val_loss: 18.1996\n",
      "Epoch 80/500\n",
      "3739/3739 [==============================] - 0s 3us/step - loss: 37.6537 - val_loss: 16.2856\n",
      "Epoch 81/500\n",
      "3739/3739 [==============================] - 0s 3us/step - loss: 37.1866 - val_loss: 18.0499\n",
      "Epoch 82/500\n",
      "3739/3739 [==============================] - 0s 2us/step - loss: 37.1919 - val_loss: 17.4575\n",
      "Epoch 83/500\n",
      "3739/3739 [==============================] - 0s 3us/step - loss: 36.5027 - val_loss: 14.6811\n",
      "Epoch 84/500\n",
      "3739/3739 [==============================] - 0s 3us/step - loss: 35.7463 - val_loss: 14.6704\n",
      "Epoch 85/500\n",
      "3739/3739 [==============================] - 0s 3us/step - loss: 35.9418 - val_loss: 17.3180\n",
      "Epoch 86/500\n",
      "3739/3739 [==============================] - 0s 3us/step - loss: 34.5706 - val_loss: 15.9695\n",
      "Epoch 87/500\n",
      "3739/3739 [==============================] - 0s 3us/step - loss: 34.4476 - val_loss: 13.1024\n",
      "Epoch 88/500\n",
      "3739/3739 [==============================] - 0s 3us/step - loss: 33.8516 - val_loss: 12.6098\n",
      "Epoch 89/500\n",
      "3739/3739 [==============================] - 0s 3us/step - loss: 33.0670 - val_loss: 15.8165\n",
      "Epoch 90/500\n",
      "3739/3739 [==============================] - 0s 3us/step - loss: 32.6817 - val_loss: 13.5958\n",
      "Epoch 91/500\n",
      "3739/3739 [==============================] - 0s 3us/step - loss: 31.9465 - val_loss: 10.1596\n",
      "Epoch 92/500\n",
      "3739/3739 [==============================] - 0s 3us/step - loss: 32.2814 - val_loss: 12.1751\n",
      "Epoch 93/500\n",
      "3739/3739 [==============================] - 0s 3us/step - loss: 30.9036 - val_loss: 13.4673\n",
      "Epoch 94/500\n",
      "3739/3739 [==============================] - 0s 3us/step - loss: 30.9838 - val_loss: 10.7420\n",
      "Epoch 95/500\n",
      "3739/3739 [==============================] - 0s 3us/step - loss: 30.0723 - val_loss: 9.9579\n",
      "Epoch 96/500\n",
      "3739/3739 [==============================] - 0s 3us/step - loss: 29.3706 - val_loss: 11.2350\n",
      "Epoch 97/500\n",
      "3739/3739 [==============================] - 0s 3us/step - loss: 29.1058 - val_loss: 11.0354\n",
      "Epoch 98/500\n",
      "3739/3739 [==============================] - 0s 3us/step - loss: 29.1158 - val_loss: 12.0611\n",
      "Epoch 99/500\n",
      "3739/3739 [==============================] - 0s 3us/step - loss: 27.5543 - val_loss: 14.2456\n",
      "Epoch 100/500\n",
      "3739/3739 [==============================] - 0s 3us/step - loss: 28.1835 - val_loss: 13.1685\n",
      "Epoch 101/500\n",
      "3739/3739 [==============================] - 0s 3us/step - loss: 27.5463 - val_loss: 13.2700\n",
      "Epoch 102/500\n",
      "3739/3739 [==============================] - 0s 3us/step - loss: 27.0457 - val_loss: 12.2835\n",
      "Epoch 103/500\n",
      "3739/3739 [==============================] - 0s 2us/step - loss: 26.3016 - val_loss: 13.5033\n",
      "Epoch 104/500\n",
      "3739/3739 [==============================] - 0s 3us/step - loss: 26.0115 - val_loss: 13.6709\n",
      "Epoch 105/500\n",
      "3739/3739 [==============================] - 0s 3us/step - loss: 25.6184 - val_loss: 12.7009\n",
      "Epoch 106/500\n",
      "3739/3739 [==============================] - 0s 3us/step - loss: 25.1780 - val_loss: 10.6730\n",
      "Epoch 107/500\n",
      "3739/3739 [==============================] - 0s 3us/step - loss: 24.1985 - val_loss: 10.2718\n",
      "Epoch 108/500\n",
      "3739/3739 [==============================] - 0s 3us/step - loss: 24.6601 - val_loss: 8.8609\n",
      "Epoch 109/500\n",
      "3739/3739 [==============================] - 0s 3us/step - loss: 23.8642 - val_loss: 8.0653\n",
      "Epoch 110/500\n",
      "3739/3739 [==============================] - 0s 3us/step - loss: 23.3262 - val_loss: 8.9914\n",
      "Epoch 111/500\n",
      "3739/3739 [==============================] - 0s 3us/step - loss: 22.9893 - val_loss: 11.2715\n",
      "Epoch 112/500\n",
      "3739/3739 [==============================] - 0s 3us/step - loss: 23.4001 - val_loss: 10.3241\n",
      "Epoch 113/500\n",
      "3739/3739 [==============================] - 0s 3us/step - loss: 22.1501 - val_loss: 11.5028\n",
      "Epoch 114/500\n",
      "3739/3739 [==============================] - 0s 3us/step - loss: 21.3860 - val_loss: 9.9896\n",
      "Epoch 115/500\n",
      "3739/3739 [==============================] - 0s 3us/step - loss: 21.0595 - val_loss: 9.9733\n",
      "Epoch 116/500\n",
      "3739/3739 [==============================] - 0s 3us/step - loss: 20.5924 - val_loss: 9.0826\n",
      "Epoch 117/500\n",
      "3739/3739 [==============================] - 0s 3us/step - loss: 20.9142 - val_loss: 8.3084\n",
      "Epoch 118/500\n",
      "3739/3739 [==============================] - 0s 3us/step - loss: 19.9771 - val_loss: 8.5041\n",
      "Epoch 119/500\n",
      "3739/3739 [==============================] - 0s 3us/step - loss: 20.2275 - val_loss: 7.6536\n",
      "Epoch 120/500\n",
      "3739/3739 [==============================] - 0s 3us/step - loss: 19.4258 - val_loss: 6.5625\n",
      "Epoch 121/500\n",
      "3739/3739 [==============================] - 0s 3us/step - loss: 19.3502 - val_loss: 6.3475\n",
      "Epoch 122/500\n",
      "3739/3739 [==============================] - 0s 3us/step - loss: 18.4582 - val_loss: 7.7366\n",
      "Epoch 123/500\n",
      "3739/3739 [==============================] - 0s 3us/step - loss: 18.6743 - val_loss: 6.7471\n",
      "Epoch 124/500\n",
      "3739/3739 [==============================] - 0s 3us/step - loss: 17.8294 - val_loss: 6.5877\n",
      "Epoch 125/500\n",
      "3739/3739 [==============================] - 0s 3us/step - loss: 18.6336 - val_loss: 6.6910\n",
      "Epoch 126/500\n",
      "3739/3739 [==============================] - 0s 3us/step - loss: 18.0427 - val_loss: 6.5710\n",
      "Epoch 127/500\n",
      "3739/3739 [==============================] - 0s 3us/step - loss: 17.5122 - val_loss: 7.3272\n",
      "Epoch 128/500\n",
      "3739/3739 [==============================] - 0s 3us/step - loss: 17.2911 - val_loss: 6.6400\n",
      "Epoch 129/500\n",
      "3739/3739 [==============================] - 0s 3us/step - loss: 17.0494 - val_loss: 6.1871\n",
      "Epoch 130/500\n",
      "3739/3739 [==============================] - 0s 3us/step - loss: 16.6737 - val_loss: 6.1541\n",
      "Epoch 131/500\n",
      "3739/3739 [==============================] - 0s 3us/step - loss: 16.5023 - val_loss: 6.1326\n",
      "Epoch 132/500\n",
      "3739/3739 [==============================] - 0s 3us/step - loss: 16.3048 - val_loss: 5.4749\n",
      "Epoch 133/500\n",
      "3739/3739 [==============================] - 0s 3us/step - loss: 15.9031 - val_loss: 5.4854\n",
      "Epoch 134/500\n",
      "3739/3739 [==============================] - 0s 4us/step - loss: 16.5969 - val_loss: 6.7406\n",
      "Epoch 135/500\n",
      "3739/3739 [==============================] - 0s 3us/step - loss: 15.2854 - val_loss: 5.4100\n",
      "Epoch 136/500\n",
      "3739/3739 [==============================] - 0s 3us/step - loss: 15.1355 - val_loss: 5.4763\n",
      "Epoch 137/500\n",
      "3739/3739 [==============================] - 0s 3us/step - loss: 15.0188 - val_loss: 6.0738\n",
      "Epoch 138/500\n",
      "3739/3739 [==============================] - 0s 4us/step - loss: 14.6607 - val_loss: 5.1450\n",
      "Epoch 139/500\n",
      "3739/3739 [==============================] - 0s 3us/step - loss: 15.1417 - val_loss: 5.0537\n",
      "Epoch 140/500\n",
      "3739/3739 [==============================] - 0s 3us/step - loss: 14.4173 - val_loss: 6.3593\n",
      "Epoch 141/500\n",
      "3739/3739 [==============================] - 0s 3us/step - loss: 14.3147 - val_loss: 6.4507\n",
      "Epoch 142/500\n",
      "3739/3739 [==============================] - 0s 3us/step - loss: 14.1675 - val_loss: 5.2277\n",
      "Epoch 143/500\n",
      "3739/3739 [==============================] - 0s 3us/step - loss: 13.7056 - val_loss: 5.7967\n",
      "Epoch 144/500\n",
      "3739/3739 [==============================] - 0s 3us/step - loss: 13.6452 - val_loss: 6.8047\n",
      "Epoch 145/500\n",
      "3739/3739 [==============================] - 0s 3us/step - loss: 13.6847 - val_loss: 5.0594\n",
      "Epoch 146/500\n",
      "3739/3739 [==============================] - 0s 3us/step - loss: 13.0525 - val_loss: 5.1438\n",
      "Epoch 147/500\n",
      "3739/3739 [==============================] - 0s 2us/step - loss: 13.4282 - val_loss: 5.5955\n",
      "Epoch 148/500\n",
      "3739/3739 [==============================] - 0s 3us/step - loss: 13.1920 - val_loss: 5.0757\n",
      "Epoch 149/500\n",
      "3739/3739 [==============================] - 0s 3us/step - loss: 12.8995 - val_loss: 5.9547\n",
      "Epoch 150/500\n",
      "3739/3739 [==============================] - 0s 3us/step - loss: 12.3811 - val_loss: 6.3991\n",
      "Epoch 151/500\n",
      "3739/3739 [==============================] - 0s 3us/step - loss: 12.5130 - val_loss: 5.2639\n",
      "Epoch 152/500\n",
      "3739/3739 [==============================] - 0s 3us/step - loss: 12.9819 - val_loss: 5.4758\n",
      "Epoch 153/500\n",
      "3739/3739 [==============================] - 0s 3us/step - loss: 12.5916 - val_loss: 5.1458\n",
      "Epoch 154/500\n",
      "3739/3739 [==============================] - 0s 3us/step - loss: 12.6595 - val_loss: 4.6328\n",
      "Epoch 155/500\n",
      "3739/3739 [==============================] - 0s 3us/step - loss: 12.2712 - val_loss: 4.8335\n",
      "Epoch 156/500\n",
      "3739/3739 [==============================] - 0s 3us/step - loss: 12.2288 - val_loss: 5.4822\n",
      "Epoch 157/500\n",
      "3739/3739 [==============================] - 0s 3us/step - loss: 11.9244 - val_loss: 4.7021\n",
      "Epoch 158/500\n",
      "3739/3739 [==============================] - 0s 3us/step - loss: 12.0778 - val_loss: 5.3714\n",
      "Epoch 159/500\n",
      "3739/3739 [==============================] - 0s 3us/step - loss: 12.0924 - val_loss: 5.5647\n",
      "Epoch 160/500\n",
      "3739/3739 [==============================] - 0s 2us/step - loss: 12.5116 - val_loss: 4.6488\n",
      "Epoch 161/500\n",
      "3739/3739 [==============================] - 0s 3us/step - loss: 11.7948 - val_loss: 4.8811\n",
      "Epoch 162/500\n",
      "3739/3739 [==============================] - 0s 3us/step - loss: 11.5403 - val_loss: 4.8246\n",
      "Epoch 163/500\n",
      "3739/3739 [==============================] - 0s 3us/step - loss: 11.2745 - val_loss: 4.5768\n",
      "Epoch 164/500\n",
      "3739/3739 [==============================] - 0s 3us/step - loss: 11.6706 - val_loss: 4.7872\n",
      "Epoch 165/500\n",
      "3739/3739 [==============================] - 0s 3us/step - loss: 11.1999 - val_loss: 5.0592\n",
      "Epoch 166/500\n",
      "3739/3739 [==============================] - 0s 2us/step - loss: 11.4011 - val_loss: 4.5032\n",
      "Epoch 167/500\n",
      "3739/3739 [==============================] - 0s 2us/step - loss: 11.3955 - val_loss: 4.8357\n",
      "Epoch 168/500\n",
      "3739/3739 [==============================] - 0s 3us/step - loss: 11.1688 - val_loss: 4.9403\n",
      "Epoch 169/500\n",
      "3739/3739 [==============================] - 0s 3us/step - loss: 11.2574 - val_loss: 4.9960\n",
      "Epoch 170/500\n",
      "3739/3739 [==============================] - 0s 3us/step - loss: 11.0853 - val_loss: 5.0357\n",
      "Epoch 171/500\n",
      "3739/3739 [==============================] - 0s 3us/step - loss: 10.6391 - val_loss: 4.7541\n",
      "Epoch 172/500\n",
      "3739/3739 [==============================] - 0s 3us/step - loss: 10.6835 - val_loss: 4.8295\n",
      "Epoch 173/500\n",
      "3739/3739 [==============================] - 0s 3us/step - loss: 11.2858 - val_loss: 4.3749\n",
      "Epoch 174/500\n",
      "3739/3739 [==============================] - 0s 3us/step - loss: 10.8749 - val_loss: 4.6153\n",
      "Epoch 175/500\n",
      "3739/3739 [==============================] - 0s 3us/step - loss: 11.1104 - val_loss: 4.3873\n",
      "Epoch 176/500\n",
      "3739/3739 [==============================] - 0s 3us/step - loss: 10.9405 - val_loss: 4.5192\n",
      "Epoch 177/500\n",
      "3739/3739 [==============================] - 0s 3us/step - loss: 10.8314 - val_loss: 5.1484\n",
      "Epoch 178/500\n",
      "3739/3739 [==============================] - 0s 3us/step - loss: 10.9636 - val_loss: 5.0426\n",
      "Epoch 179/500\n",
      "3739/3739 [==============================] - 0s 3us/step - loss: 10.4074 - val_loss: 4.4089\n",
      "Epoch 180/500\n",
      "3739/3739 [==============================] - 0s 3us/step - loss: 10.9511 - val_loss: 4.5634\n",
      "Epoch 181/500\n",
      "3739/3739 [==============================] - 0s 3us/step - loss: 11.3939 - val_loss: 5.2726\n",
      "Epoch 182/500\n",
      "3739/3739 [==============================] - 0s 2us/step - loss: 10.9865 - val_loss: 4.4394\n",
      "Epoch 183/500\n",
      "3739/3739 [==============================] - 0s 3us/step - loss: 10.4657 - val_loss: 4.3084\n",
      "Epoch 184/500\n",
      "3739/3739 [==============================] - 0s 3us/step - loss: 10.3776 - val_loss: 4.7768\n",
      "Epoch 185/500\n",
      "3739/3739 [==============================] - 0s 3us/step - loss: 10.4147 - val_loss: 4.8138\n",
      "Epoch 186/500\n",
      "3739/3739 [==============================] - 0s 3us/step - loss: 10.1113 - val_loss: 4.5124\n",
      "Epoch 187/500\n",
      "3739/3739 [==============================] - 0s 3us/step - loss: 10.6870 - val_loss: 4.4450\n",
      "Epoch 188/500\n",
      "3739/3739 [==============================] - 0s 2us/step - loss: 10.6781 - val_loss: 4.4965\n",
      "Epoch 189/500\n",
      "3739/3739 [==============================] - 0s 3us/step - loss: 10.6601 - val_loss: 4.3736\n",
      "Epoch 190/500\n",
      "3739/3739 [==============================] - 0s 3us/step - loss: 10.0709 - val_loss: 4.4556\n",
      "Epoch 191/500\n",
      "3739/3739 [==============================] - 0s 3us/step - loss: 10.5885 - val_loss: 4.6075\n",
      "Epoch 192/500\n",
      "3739/3739 [==============================] - 0s 3us/step - loss: 10.6830 - val_loss: 4.3862\n",
      "Epoch 193/500\n",
      "3739/3739 [==============================] - 0s 3us/step - loss: 10.2901 - val_loss: 4.2296\n",
      "Epoch 194/500\n",
      "3739/3739 [==============================] - 0s 3us/step - loss: 10.5142 - val_loss: 4.3646\n",
      "Epoch 195/500\n",
      "3739/3739 [==============================] - 0s 3us/step - loss: 10.4763 - val_loss: 4.3556\n",
      "Epoch 196/500\n",
      "3739/3739 [==============================] - 0s 3us/step - loss: 10.3529 - val_loss: 4.2042\n",
      "Epoch 197/500\n",
      "3739/3739 [==============================] - 0s 3us/step - loss: 10.2213 - val_loss: 4.2447\n",
      "Epoch 198/500\n",
      "3739/3739 [==============================] - 0s 3us/step - loss: 10.5338 - val_loss: 4.4392\n",
      "Epoch 199/500\n",
      "3739/3739 [==============================] - 0s 3us/step - loss: 10.1308 - val_loss: 4.1506\n",
      "Epoch 200/500\n",
      "3739/3739 [==============================] - 0s 3us/step - loss: 10.2583 - val_loss: 4.3460\n",
      "Epoch 201/500\n",
      "3739/3739 [==============================] - 0s 3us/step - loss: 10.2089 - val_loss: 4.5727\n",
      "Epoch 202/500\n",
      "3739/3739 [==============================] - 0s 4us/step - loss: 10.5142 - val_loss: 4.2526\n",
      "Epoch 203/500\n",
      "3739/3739 [==============================] - 0s 3us/step - loss: 10.2815 - val_loss: 4.4218\n",
      "Epoch 204/500\n",
      "3739/3739 [==============================] - 0s 3us/step - loss: 10.0749 - val_loss: 5.0481\n",
      "Epoch 205/500\n",
      "3739/3739 [==============================] - 0s 3us/step - loss: 10.4056 - val_loss: 4.2942\n",
      "Epoch 206/500\n",
      "3739/3739 [==============================] - 0s 3us/step - loss: 10.2334 - val_loss: 4.2347\n",
      "Epoch 207/500\n",
      "3739/3739 [==============================] - 0s 3us/step - loss: 10.5580 - val_loss: 4.6698\n",
      "Epoch 208/500\n",
      "3739/3739 [==============================] - 0s 3us/step - loss: 10.4989 - val_loss: 4.4858\n",
      "Epoch 209/500\n",
      "3739/3739 [==============================] - 0s 3us/step - loss: 10.0689 - val_loss: 4.6094\n",
      "Epoch 210/500\n",
      "3739/3739 [==============================] - 0s 3us/step - loss: 10.3514 - val_loss: 5.0530\n",
      "Epoch 211/500\n",
      "3739/3739 [==============================] - 0s 3us/step - loss: 10.1602 - val_loss: 4.4700\n",
      "Epoch 212/500\n",
      "3739/3739 [==============================] - 0s 2us/step - loss: 10.3927 - val_loss: 4.1292\n",
      "Epoch 213/500\n",
      "3739/3739 [==============================] - 0s 3us/step - loss: 10.2453 - val_loss: 4.2494\n",
      "Epoch 214/500\n",
      "3739/3739 [==============================] - 0s 3us/step - loss: 9.7817 - val_loss: 4.1071\n",
      "Epoch 215/500\n",
      "3739/3739 [==============================] - 0s 3us/step - loss: 10.1173 - val_loss: 4.0677\n",
      "Epoch 216/500\n",
      "3739/3739 [==============================] - 0s 3us/step - loss: 9.9621 - val_loss: 4.3998\n",
      "Epoch 217/500\n",
      "3739/3739 [==============================] - 0s 3us/step - loss: 10.1753 - val_loss: 4.7485\n",
      "Epoch 218/500\n",
      "3739/3739 [==============================] - 0s 3us/step - loss: 10.5293 - val_loss: 4.1029\n",
      "Epoch 219/500\n",
      "3739/3739 [==============================] - 0s 3us/step - loss: 10.2673 - val_loss: 4.4995\n",
      "Epoch 220/500\n",
      "3739/3739 [==============================] - 0s 3us/step - loss: 10.0841 - val_loss: 5.1698\n",
      "Epoch 221/500\n",
      "3739/3739 [==============================] - 0s 3us/step - loss: 10.2647 - val_loss: 4.3930\n",
      "Epoch 222/500\n",
      "3739/3739 [==============================] - 0s 5us/step - loss: 10.2757 - val_loss: 4.1913\n",
      "Epoch 223/500\n",
      "3739/3739 [==============================] - 0s 4us/step - loss: 9.9087 - val_loss: 4.4989\n",
      "Epoch 224/500\n",
      "3739/3739 [==============================] - 0s 3us/step - loss: 9.7058 - val_loss: 4.2842\n",
      "Epoch 225/500\n",
      "3739/3739 [==============================] - 0s 3us/step - loss: 9.7426 - val_loss: 3.9653\n",
      "Epoch 226/500\n",
      "3739/3739 [==============================] - 0s 3us/step - loss: 9.7423 - val_loss: 4.8085\n",
      "Epoch 227/500\n",
      "3739/3739 [==============================] - 0s 3us/step - loss: 10.1082 - val_loss: 4.9379\n",
      "Epoch 228/500\n",
      "3739/3739 [==============================] - 0s 3us/step - loss: 9.6378 - val_loss: 3.9301\n",
      "Epoch 229/500\n",
      "3739/3739 [==============================] - 0s 3us/step - loss: 9.9359 - val_loss: 4.4545\n",
      "Epoch 230/500\n",
      "3739/3739 [==============================] - 0s 3us/step - loss: 10.2167 - val_loss: 4.8123\n",
      "Epoch 231/500\n",
      "3739/3739 [==============================] - 0s 3us/step - loss: 10.0690 - val_loss: 4.1084\n",
      "Epoch 232/500\n",
      "3739/3739 [==============================] - 0s 2us/step - loss: 10.2123 - val_loss: 4.5777\n",
      "Epoch 233/500\n",
      "3739/3739 [==============================] - 0s 2us/step - loss: 10.1311 - val_loss: 4.4776\n",
      "Epoch 234/500\n",
      "3739/3739 [==============================] - 0s 3us/step - loss: 10.2168 - val_loss: 4.0238\n",
      "Epoch 235/500\n",
      "3739/3739 [==============================] - 0s 3us/step - loss: 9.9243 - val_loss: 4.4631\n",
      "Epoch 236/500\n",
      "3739/3739 [==============================] - 0s 3us/step - loss: 9.5974 - val_loss: 4.5099\n",
      "Epoch 237/500\n",
      "3739/3739 [==============================] - 0s 3us/step - loss: 10.1932 - val_loss: 3.9998\n",
      "Epoch 238/500\n",
      "3739/3739 [==============================] - 0s 3us/step - loss: 9.9979 - val_loss: 4.4753\n",
      "Epoch 239/500\n",
      "3739/3739 [==============================] - 0s 3us/step - loss: 10.1979 - val_loss: 4.7340\n",
      "Epoch 240/500\n",
      "3739/3739 [==============================] - 0s 3us/step - loss: 10.0001 - val_loss: 4.0206\n",
      "Epoch 241/500\n",
      "3739/3739 [==============================] - 0s 3us/step - loss: 9.7290 - val_loss: 4.2111\n",
      "Epoch 242/500\n",
      "3739/3739 [==============================] - 0s 3us/step - loss: 9.6670 - val_loss: 4.2029\n",
      "Epoch 243/500\n",
      "3739/3739 [==============================] - 0s 3us/step - loss: 9.8617 - val_loss: 4.6713\n",
      "Epoch 244/500\n",
      "3739/3739 [==============================] - 0s 3us/step - loss: 10.2894 - val_loss: 4.3610\n",
      "Epoch 245/500\n",
      "3739/3739 [==============================] - 0s 3us/step - loss: 9.6969 - val_loss: 4.0218\n",
      "Epoch 246/500\n",
      "3739/3739 [==============================] - 0s 3us/step - loss: 10.1738 - val_loss: 4.2682\n",
      "Epoch 247/500\n",
      "3739/3739 [==============================] - 0s 3us/step - loss: 9.9736 - val_loss: 3.9306\n",
      "Epoch 248/500\n",
      "3739/3739 [==============================] - 0s 3us/step - loss: 9.9130 - val_loss: 3.9346\n",
      "Epoch 249/500\n",
      "3739/3739 [==============================] - 0s 3us/step - loss: 10.1067 - val_loss: 4.5108\n",
      "Epoch 250/500\n",
      "3739/3739 [==============================] - 0s 3us/step - loss: 10.3663 - val_loss: 3.9329\n",
      "Epoch 251/500\n",
      "3739/3739 [==============================] - 0s 3us/step - loss: 10.0051 - val_loss: 3.9936\n",
      "Epoch 252/500\n",
      "3739/3739 [==============================] - 0s 3us/step - loss: 9.5490 - val_loss: 4.2213\n",
      "Epoch 253/500\n",
      "3739/3739 [==============================] - 0s 3us/step - loss: 9.7816 - val_loss: 4.1514\n",
      "Epoch 254/500\n",
      "3739/3739 [==============================] - 0s 2us/step - loss: 10.0630 - val_loss: 4.3962\n",
      "Epoch 255/500\n",
      "3739/3739 [==============================] - 0s 2us/step - loss: 9.8146 - val_loss: 4.6888\n",
      "Epoch 256/500\n",
      "3739/3739 [==============================] - 0s 2us/step - loss: 9.8885 - val_loss: 3.9438\n",
      "Epoch 257/500\n",
      "3739/3739 [==============================] - 0s 2us/step - loss: 9.5634 - val_loss: 4.1597\n",
      "Epoch 258/500\n",
      "3739/3739 [==============================] - 0s 2us/step - loss: 10.3953 - val_loss: 4.1560\n",
      "Epoch 259/500\n",
      "3739/3739 [==============================] - 0s 2us/step - loss: 9.8364 - val_loss: 3.9727\n",
      "Epoch 260/500\n",
      "3739/3739 [==============================] - 0s 3us/step - loss: 9.8527 - val_loss: 4.2824\n",
      "Epoch 261/500\n",
      "3739/3739 [==============================] - 0s 3us/step - loss: 9.7872 - val_loss: 5.0546\n",
      "Epoch 262/500\n",
      "3739/3739 [==============================] - 0s 3us/step - loss: 9.9792 - val_loss: 4.6528\n",
      "Epoch 263/500\n",
      "3739/3739 [==============================] - 0s 3us/step - loss: 9.8049 - val_loss: 4.0147\n",
      "Epoch 264/500\n",
      "3739/3739 [==============================] - 0s 3us/step - loss: 9.4020 - val_loss: 3.9459\n",
      "Epoch 265/500\n",
      "3739/3739 [==============================] - 0s 3us/step - loss: 10.6083 - val_loss: 4.0547\n",
      "Epoch 266/500\n",
      "3739/3739 [==============================] - 0s 3us/step - loss: 9.7005 - val_loss: 4.0211\n",
      "Epoch 267/500\n",
      "3739/3739 [==============================] - 0s 3us/step - loss: 9.6390 - val_loss: 3.8540\n",
      "Epoch 268/500\n",
      "3739/3739 [==============================] - 0s 3us/step - loss: 10.1090 - val_loss: 3.8568\n",
      "Epoch 269/500\n",
      "3739/3739 [==============================] - 0s 3us/step - loss: 9.7023 - val_loss: 3.8591\n",
      "Epoch 270/500\n",
      "3739/3739 [==============================] - 0s 3us/step - loss: 9.7191 - val_loss: 3.7852\n",
      "Epoch 271/500\n",
      "3739/3739 [==============================] - 0s 2us/step - loss: 9.7638 - val_loss: 3.7856\n",
      "Epoch 272/500\n",
      "3739/3739 [==============================] - 0s 3us/step - loss: 9.6774 - val_loss: 4.2554\n",
      "Epoch 273/500\n",
      "3739/3739 [==============================] - 0s 2us/step - loss: 9.9087 - val_loss: 4.0641\n",
      "Epoch 274/500\n",
      "3739/3739 [==============================] - 0s 2us/step - loss: 9.9998 - val_loss: 3.8767\n",
      "Epoch 275/500\n",
      "3739/3739 [==============================] - 0s 2us/step - loss: 10.0323 - val_loss: 4.1821\n",
      "Epoch 276/500\n",
      "3739/3739 [==============================] - 0s 2us/step - loss: 9.8470 - val_loss: 4.1107\n",
      "Epoch 277/500\n",
      "3739/3739 [==============================] - 0s 3us/step - loss: 10.1428 - val_loss: 3.8194\n",
      "Epoch 278/500\n",
      "3739/3739 [==============================] - 0s 2us/step - loss: 9.8899 - val_loss: 3.8055\n",
      "Epoch 279/500\n",
      "3739/3739 [==============================] - 0s 3us/step - loss: 9.2375 - val_loss: 3.9376\n",
      "Epoch 280/500\n",
      "3739/3739 [==============================] - 0s 2us/step - loss: 10.0537 - val_loss: 4.0479\n",
      "Epoch 281/500\n",
      "3739/3739 [==============================] - 0s 3us/step - loss: 9.6476 - val_loss: 4.1790\n",
      "Epoch 282/500\n",
      "3739/3739 [==============================] - 0s 3us/step - loss: 9.9789 - val_loss: 4.2166\n",
      "Epoch 283/500\n",
      "3739/3739 [==============================] - 0s 3us/step - loss: 9.8557 - val_loss: 4.0547\n",
      "Epoch 284/500\n",
      "3739/3739 [==============================] - 0s 3us/step - loss: 10.1965 - val_loss: 3.8863\n",
      "Epoch 285/500\n",
      "3739/3739 [==============================] - 0s 3us/step - loss: 10.0429 - val_loss: 3.8623\n",
      "Epoch 286/500\n",
      "3739/3739 [==============================] - 0s 3us/step - loss: 9.4371 - val_loss: 3.7802\n",
      "Epoch 287/500\n",
      "3739/3739 [==============================] - 0s 2us/step - loss: 9.8814 - val_loss: 3.8335\n",
      "Epoch 288/500\n",
      "3739/3739 [==============================] - 0s 2us/step - loss: 9.4931 - val_loss: 3.8802\n",
      "Epoch 289/500\n",
      "3739/3739 [==============================] - 0s 2us/step - loss: 9.5482 - val_loss: 3.7594\n",
      "Epoch 290/500\n",
      "3739/3739 [==============================] - 0s 2us/step - loss: 9.9372 - val_loss: 3.8896\n",
      "Epoch 291/500\n",
      "3739/3739 [==============================] - 0s 3us/step - loss: 10.3917 - val_loss: 3.8532\n",
      "Epoch 292/500\n",
      "3739/3739 [==============================] - 0s 3us/step - loss: 9.8367 - val_loss: 3.8810\n",
      "Epoch 293/500\n",
      "3739/3739 [==============================] - 0s 3us/step - loss: 10.0748 - val_loss: 4.2770\n",
      "Epoch 294/500\n",
      "3739/3739 [==============================] - 0s 3us/step - loss: 9.5175 - val_loss: 4.5237\n",
      "Epoch 295/500\n",
      "3739/3739 [==============================] - 0s 3us/step - loss: 9.6802 - val_loss: 3.8709\n",
      "Epoch 296/500\n",
      "3739/3739 [==============================] - 0s 2us/step - loss: 9.3785 - val_loss: 4.0344\n",
      "Epoch 297/500\n",
      "3739/3739 [==============================] - 0s 2us/step - loss: 10.0554 - val_loss: 4.3884\n",
      "Epoch 298/500\n",
      "3739/3739 [==============================] - 0s 2us/step - loss: 9.8622 - val_loss: 3.8772\n",
      "Epoch 299/500\n",
      "3739/3739 [==============================] - 0s 2us/step - loss: 9.5678 - val_loss: 3.8943\n",
      "Epoch 300/500\n",
      "3739/3739 [==============================] - 0s 3us/step - loss: 9.6948 - val_loss: 3.7879\n",
      "Epoch 301/500\n",
      "3739/3739 [==============================] - 0s 3us/step - loss: 9.4544 - val_loss: 3.7641\n",
      "Epoch 302/500\n",
      "3739/3739 [==============================] - 0s 3us/step - loss: 9.7217 - val_loss: 3.8839\n",
      "Epoch 303/500\n",
      "3739/3739 [==============================] - 0s 3us/step - loss: 9.6078 - val_loss: 3.9426\n",
      "Epoch 304/500\n",
      "3739/3739 [==============================] - 0s 3us/step - loss: 9.6822 - val_loss: 3.8582\n",
      "Epoch 305/500\n",
      "3739/3739 [==============================] - 0s 3us/step - loss: 9.5686 - val_loss: 3.7569\n",
      "Epoch 306/500\n",
      "3739/3739 [==============================] - 0s 2us/step - loss: 9.6968 - val_loss: 4.2798\n",
      "Epoch 307/500\n",
      "3739/3739 [==============================] - 0s 3us/step - loss: 9.9304 - val_loss: 3.8103\n",
      "Epoch 308/500\n",
      "3739/3739 [==============================] - 0s 2us/step - loss: 9.6993 - val_loss: 3.7698\n",
      "Epoch 309/500\n",
      "3739/3739 [==============================] - 0s 2us/step - loss: 9.5609 - val_loss: 4.1703\n",
      "Epoch 310/500\n",
      "3739/3739 [==============================] - 0s 2us/step - loss: 9.6989 - val_loss: 3.8358\n",
      "Epoch 311/500\n",
      "3739/3739 [==============================] - 0s 3us/step - loss: 9.6869 - val_loss: 3.7541\n",
      "Epoch 312/500\n",
      "3739/3739 [==============================] - 0s 3us/step - loss: 9.5823 - val_loss: 4.7360\n",
      "Epoch 313/500\n",
      "3739/3739 [==============================] - 0s 2us/step - loss: 9.7713 - val_loss: 3.8278\n",
      "Epoch 314/500\n",
      "3739/3739 [==============================] - 0s 2us/step - loss: 9.7428 - val_loss: 3.7482\n",
      "Epoch 315/500\n",
      "3739/3739 [==============================] - 0s 2us/step - loss: 9.7415 - val_loss: 3.9945\n",
      "Epoch 316/500\n",
      "3739/3739 [==============================] - 0s 2us/step - loss: 9.9266 - val_loss: 3.9616\n",
      "Epoch 317/500\n",
      "3739/3739 [==============================] - 0s 2us/step - loss: 9.6006 - val_loss: 3.7288\n",
      "Epoch 318/500\n",
      "3739/3739 [==============================] - 0s 2us/step - loss: 9.5902 - val_loss: 3.7091\n",
      "Epoch 319/500\n",
      "3739/3739 [==============================] - 0s 3us/step - loss: 9.5753 - val_loss: 4.2414\n",
      "Epoch 320/500\n",
      "3739/3739 [==============================] - 0s 3us/step - loss: 9.7733 - val_loss: 3.7316\n",
      "Epoch 321/500\n",
      "3739/3739 [==============================] - 0s 3us/step - loss: 9.6013 - val_loss: 3.7547\n",
      "Epoch 322/500\n",
      "3739/3739 [==============================] - 0s 3us/step - loss: 9.5941 - val_loss: 4.4351\n",
      "Epoch 323/500\n",
      "3739/3739 [==============================] - 0s 3us/step - loss: 9.5898 - val_loss: 4.5469\n",
      "Epoch 324/500\n",
      "3739/3739 [==============================] - 0s 3us/step - loss: 9.6838 - val_loss: 3.7563\n",
      "Epoch 325/500\n",
      "3739/3739 [==============================] - 0s 3us/step - loss: 9.5444 - val_loss: 3.8266\n",
      "Epoch 326/500\n",
      "3739/3739 [==============================] - 0s 3us/step - loss: 9.9032 - val_loss: 4.2045\n",
      "Epoch 327/500\n",
      "3739/3739 [==============================] - 0s 2us/step - loss: 9.8824 - val_loss: 3.7956\n",
      "Epoch 328/500\n",
      "3739/3739 [==============================] - 0s 3us/step - loss: 10.2483 - val_loss: 3.9680\n",
      "Epoch 329/500\n",
      "3739/3739 [==============================] - 0s 3us/step - loss: 9.3245 - val_loss: 3.8058\n",
      "Epoch 330/500\n",
      "3739/3739 [==============================] - 0s 2us/step - loss: 9.7329 - val_loss: 5.3038\n",
      "Epoch 331/500\n",
      "3739/3739 [==============================] - 0s 3us/step - loss: 9.7194 - val_loss: 4.1845\n",
      "Epoch 332/500\n",
      "3739/3739 [==============================] - 0s 3us/step - loss: 9.7185 - val_loss: 3.8016\n",
      "Epoch 333/500\n",
      "3739/3739 [==============================] - 0s 3us/step - loss: 9.1618 - val_loss: 4.5316\n",
      "Epoch 334/500\n",
      "3739/3739 [==============================] - 0s 3us/step - loss: 9.8728 - val_loss: 4.3335\n",
      "Epoch 335/500\n",
      "3739/3739 [==============================] - 0s 3us/step - loss: 9.9192 - val_loss: 3.7593\n",
      "Epoch 336/500\n",
      "3739/3739 [==============================] - 0s 3us/step - loss: 9.3455 - val_loss: 3.8025\n",
      "Epoch 337/500\n",
      "3739/3739 [==============================] - 0s 2us/step - loss: 9.6768 - val_loss: 4.4402\n",
      "Epoch 338/500\n",
      "3739/3739 [==============================] - 0s 2us/step - loss: 9.7455 - val_loss: 3.8993\n",
      "Epoch 339/500\n",
      "3739/3739 [==============================] - 0s 2us/step - loss: 9.2034 - val_loss: 3.7442\n",
      "Epoch 340/500\n",
      "3739/3739 [==============================] - 0s 2us/step - loss: 9.8867 - val_loss: 4.1549\n",
      "Epoch 341/500\n",
      "3739/3739 [==============================] - 0s 3us/step - loss: 9.2609 - val_loss: 4.4087\n",
      "Epoch 342/500\n",
      "3739/3739 [==============================] - 0s 2us/step - loss: 9.4641 - val_loss: 3.8100\n",
      "Epoch 343/500\n",
      "3739/3739 [==============================] - 0s 2us/step - loss: 9.5235 - val_loss: 4.3060\n",
      "Epoch 344/500\n",
      "3739/3739 [==============================] - 0s 3us/step - loss: 9.6788 - val_loss: 3.9888\n",
      "Epoch 345/500\n",
      "3739/3739 [==============================] - 0s 3us/step - loss: 9.4366 - val_loss: 3.7571\n",
      "Epoch 346/500\n",
      "3739/3739 [==============================] - 0s 3us/step - loss: 9.5122 - val_loss: 3.9472\n",
      "Epoch 347/500\n",
      "3739/3739 [==============================] - 0s 3us/step - loss: 9.9673 - val_loss: 3.8674\n",
      "Epoch 348/500\n",
      "3739/3739 [==============================] - 0s 3us/step - loss: 9.6230 - val_loss: 3.9560\n",
      "Epoch 349/500\n",
      "3739/3739 [==============================] - 0s 3us/step - loss: 9.5592 - val_loss: 4.3127\n",
      "Epoch 350/500\n",
      "3739/3739 [==============================] - 0s 3us/step - loss: 9.4677 - val_loss: 4.5622\n",
      "Epoch 351/500\n",
      "3739/3739 [==============================] - 0s 2us/step - loss: 9.7968 - val_loss: 4.1460\n",
      "Epoch 352/500\n",
      "3739/3739 [==============================] - 0s 2us/step - loss: 9.6570 - val_loss: 4.0626\n",
      "Epoch 353/500\n",
      "3739/3739 [==============================] - 0s 2us/step - loss: 9.6081 - val_loss: 3.9654\n",
      "Epoch 354/500\n",
      "3739/3739 [==============================] - 0s 2us/step - loss: 9.6812 - val_loss: 3.7536\n",
      "Epoch 355/500\n",
      "3739/3739 [==============================] - 0s 2us/step - loss: 9.6652 - val_loss: 3.8687\n",
      "Epoch 356/500\n",
      "3739/3739 [==============================] - 0s 2us/step - loss: 9.3792 - val_loss: 4.1460\n",
      "Epoch 357/500\n",
      "3739/3739 [==============================] - 0s 3us/step - loss: 9.7508 - val_loss: 4.0330\n",
      "Epoch 358/500\n",
      "3739/3739 [==============================] - 0s 3us/step - loss: 9.8515 - val_loss: 3.7459\n",
      "Epoch 359/500\n",
      "3739/3739 [==============================] - 0s 3us/step - loss: 9.5613 - val_loss: 3.8292\n",
      "Epoch 360/500\n",
      "3739/3739 [==============================] - 0s 2us/step - loss: 9.8950 - val_loss: 3.7978\n",
      "Epoch 361/500\n",
      "3739/3739 [==============================] - 0s 2us/step - loss: 9.2711 - val_loss: 3.8126\n",
      "Epoch 362/500\n",
      "3739/3739 [==============================] - 0s 2us/step - loss: 9.5322 - val_loss: 3.8774\n",
      "Epoch 363/500\n",
      "3739/3739 [==============================] - 0s 3us/step - loss: 9.6578 - val_loss: 3.8855\n",
      "Epoch 364/500\n",
      "3739/3739 [==============================] - 0s 3us/step - loss: 9.7234 - val_loss: 4.3698\n",
      "Epoch 365/500\n",
      "3739/3739 [==============================] - 0s 2us/step - loss: 9.5904 - val_loss: 4.0373\n",
      "Epoch 366/500\n",
      "3739/3739 [==============================] - 0s 3us/step - loss: 9.9023 - val_loss: 3.7492\n",
      "Epoch 367/500\n",
      "3739/3739 [==============================] - 0s 2us/step - loss: 9.3906 - val_loss: 4.1214\n",
      "Epoch 368/500\n",
      "3739/3739 [==============================] - 0s 2us/step - loss: 9.8369 - val_loss: 3.7315\n",
      "Epoch 369/500\n",
      "3739/3739 [==============================] - 0s 2us/step - loss: 9.5232 - val_loss: 3.7437\n",
      "Epoch 370/500\n",
      "3739/3739 [==============================] - 0s 2us/step - loss: 9.6248 - val_loss: 3.8092\n",
      "Epoch 371/500\n",
      "3739/3739 [==============================] - 0s 2us/step - loss: 9.6525 - val_loss: 4.0055\n",
      "Epoch 372/500\n",
      "3739/3739 [==============================] - 0s 2us/step - loss: 9.8721 - val_loss: 4.2040\n",
      "Epoch 373/500\n",
      "3739/3739 [==============================] - 0s 2us/step - loss: 9.3117 - val_loss: 4.1795\n",
      "Epoch 374/500\n",
      "3739/3739 [==============================] - 0s 3us/step - loss: 9.4323 - val_loss: 3.7193\n",
      "Epoch 375/500\n",
      "3739/3739 [==============================] - 0s 3us/step - loss: 9.3519 - val_loss: 4.1857\n",
      "Epoch 376/500\n",
      "3739/3739 [==============================] - 0s 3us/step - loss: 9.4790 - val_loss: 3.9814\n",
      "Epoch 377/500\n",
      "3739/3739 [==============================] - 0s 3us/step - loss: 9.7711 - val_loss: 3.7115\n",
      "Epoch 378/500\n",
      "3739/3739 [==============================] - 0s 3us/step - loss: 9.6236 - val_loss: 3.8303\n",
      "Epoch 379/500\n",
      "3739/3739 [==============================] - 0s 3us/step - loss: 9.6248 - val_loss: 4.0385\n",
      "Epoch 380/500\n",
      "3739/3739 [==============================] - 0s 3us/step - loss: 9.5064 - val_loss: 3.6970\n",
      "Epoch 381/500\n",
      "3739/3739 [==============================] - 0s 2us/step - loss: 9.6707 - val_loss: 4.1406\n",
      "Epoch 382/500\n",
      "3739/3739 [==============================] - 0s 2us/step - loss: 9.7251 - val_loss: 4.5701\n",
      "Epoch 383/500\n",
      "3739/3739 [==============================] - 0s 2us/step - loss: 9.4532 - val_loss: 3.8220\n",
      "Epoch 384/500\n",
      "3739/3739 [==============================] - 0s 2us/step - loss: 9.5728 - val_loss: 3.7275\n",
      "Epoch 385/500\n",
      "3739/3739 [==============================] - 0s 2us/step - loss: 9.3556 - val_loss: 4.5189\n",
      "Epoch 386/500\n",
      "3739/3739 [==============================] - 0s 2us/step - loss: 9.3559 - val_loss: 3.7850\n",
      "Epoch 387/500\n",
      "3739/3739 [==============================] - 0s 2us/step - loss: 9.1730 - val_loss: 3.7051\n",
      "Epoch 388/500\n",
      "3739/3739 [==============================] - 0s 2us/step - loss: 9.2447 - val_loss: 4.3521\n",
      "Epoch 389/500\n",
      "3739/3739 [==============================] - 0s 3us/step - loss: 9.6696 - val_loss: 4.0876\n",
      "Epoch 390/500\n",
      "3739/3739 [==============================] - 0s 4us/step - loss: 9.7292 - val_loss: 3.7079\n",
      "Epoch 391/500\n",
      "3739/3739 [==============================] - 0s 3us/step - loss: 10.1293 - val_loss: 3.8208\n",
      "Epoch 392/500\n",
      "3739/3739 [==============================] - 0s 3us/step - loss: 9.5512 - val_loss: 4.0667\n",
      "Epoch 393/500\n",
      "3739/3739 [==============================] - 0s 3us/step - loss: 9.3265 - val_loss: 4.0107\n",
      "Epoch 394/500\n",
      "3739/3739 [==============================] - 0s 3us/step - loss: 9.4777 - val_loss: 3.6786\n",
      "Epoch 395/500\n",
      "3739/3739 [==============================] - 0s 3us/step - loss: 9.2237 - val_loss: 4.0562\n",
      "Epoch 396/500\n",
      "3739/3739 [==============================] - 0s 3us/step - loss: 9.1543 - val_loss: 4.3750\n",
      "Epoch 397/500\n",
      "3739/3739 [==============================] - 0s 3us/step - loss: 9.6475 - val_loss: 3.9282\n",
      "Epoch 398/500\n",
      "3739/3739 [==============================] - 0s 3us/step - loss: 9.2410 - val_loss: 3.8338\n",
      "Epoch 399/500\n",
      "3739/3739 [==============================] - 0s 3us/step - loss: 9.7388 - val_loss: 3.7378\n",
      "Epoch 400/500\n",
      "3739/3739 [==============================] - 0s 3us/step - loss: 9.6858 - val_loss: 3.6617\n",
      "Epoch 401/500\n",
      "3739/3739 [==============================] - 0s 3us/step - loss: 9.6628 - val_loss: 3.6715\n",
      "Epoch 402/500\n",
      "3739/3739 [==============================] - 0s 4us/step - loss: 9.5531 - val_loss: 4.1732\n",
      "Epoch 403/500\n",
      "3739/3739 [==============================] - 0s 3us/step - loss: 10.0408 - val_loss: 3.7251\n",
      "Epoch 404/500\n",
      "3739/3739 [==============================] - 0s 3us/step - loss: 9.6430 - val_loss: 3.6865\n",
      "Epoch 405/500\n",
      "3739/3739 [==============================] - 0s 3us/step - loss: 9.4840 - val_loss: 3.8745\n",
      "Epoch 406/500\n",
      "3739/3739 [==============================] - 0s 4us/step - loss: 9.5644 - val_loss: 3.7859\n",
      "Epoch 407/500\n",
      "3739/3739 [==============================] - 0s 3us/step - loss: 9.8375 - val_loss: 3.8417\n",
      "Epoch 408/500\n",
      "3739/3739 [==============================] - 0s 2us/step - loss: 9.0243 - val_loss: 4.4077\n",
      "Epoch 409/500\n",
      "3739/3739 [==============================] - 0s 2us/step - loss: 9.6560 - val_loss: 4.0322\n",
      "Epoch 410/500\n",
      "3739/3739 [==============================] - 0s 2us/step - loss: 9.6638 - val_loss: 3.8393\n",
      "Epoch 411/500\n",
      "3739/3739 [==============================] - 0s 2us/step - loss: 9.6551 - val_loss: 4.1798\n",
      "Epoch 412/500\n",
      "3739/3739 [==============================] - 0s 3us/step - loss: 9.5481 - val_loss: 4.2857\n",
      "Epoch 413/500\n",
      "3739/3739 [==============================] - 0s 3us/step - loss: 9.2964 - val_loss: 3.9176\n",
      "Epoch 414/500\n",
      "3739/3739 [==============================] - 0s 3us/step - loss: 9.3389 - val_loss: 4.0144\n",
      "Epoch 415/500\n",
      "3739/3739 [==============================] - 0s 2us/step - loss: 9.8767 - val_loss: 4.2062\n",
      "Epoch 416/500\n",
      "3739/3739 [==============================] - 0s 2us/step - loss: 9.7575 - val_loss: 4.2737\n",
      "Epoch 417/500\n",
      "3739/3739 [==============================] - 0s 3us/step - loss: 9.7541 - val_loss: 4.5287\n",
      "Epoch 418/500\n",
      "3739/3739 [==============================] - 0s 3us/step - loss: 9.7013 - val_loss: 4.1194\n",
      "Epoch 419/500\n",
      "3739/3739 [==============================] - 0s 2us/step - loss: 9.9686 - val_loss: 3.7375\n",
      "Epoch 420/500\n",
      "3739/3739 [==============================] - 0s 2us/step - loss: 9.2449 - val_loss: 4.1264\n",
      "Epoch 421/500\n",
      "3739/3739 [==============================] - 0s 3us/step - loss: 9.5163 - val_loss: 4.1903\n",
      "Epoch 422/500\n",
      "3739/3739 [==============================] - 0s 2us/step - loss: 9.5223 - val_loss: 3.6631\n",
      "Epoch 423/500\n",
      "3739/3739 [==============================] - 0s 3us/step - loss: 9.3750 - val_loss: 3.9691\n",
      "Epoch 424/500\n",
      "3739/3739 [==============================] - 0s 2us/step - loss: 9.3649 - val_loss: 3.7544\n",
      "Epoch 425/500\n",
      "3739/3739 [==============================] - 0s 3us/step - loss: 9.7837 - val_loss: 3.8181\n",
      "Epoch 426/500\n",
      "3739/3739 [==============================] - 0s 3us/step - loss: 9.7737 - val_loss: 3.8396\n",
      "Epoch 427/500\n",
      "3739/3739 [==============================] - 0s 2us/step - loss: 9.6229 - val_loss: 3.7790\n",
      "Epoch 428/500\n",
      "3739/3739 [==============================] - 0s 3us/step - loss: 9.5618 - val_loss: 4.4175\n",
      "Epoch 429/500\n",
      "3739/3739 [==============================] - 0s 2us/step - loss: 9.2125 - val_loss: 3.9255\n",
      "Epoch 430/500\n",
      "3739/3739 [==============================] - 0s 2us/step - loss: 9.1577 - val_loss: 3.7712\n",
      "Epoch 431/500\n",
      "3739/3739 [==============================] - 0s 2us/step - loss: 9.5422 - val_loss: 3.7089\n",
      "Epoch 432/500\n",
      "3739/3739 [==============================] - 0s 2us/step - loss: 9.3807 - val_loss: 3.7166\n",
      "Epoch 433/500\n",
      "3739/3739 [==============================] - 0s 2us/step - loss: 9.3871 - val_loss: 3.6596\n",
      "Epoch 434/500\n",
      "3739/3739 [==============================] - 0s 2us/step - loss: 9.5926 - val_loss: 3.8297\n",
      "Epoch 435/500\n",
      "3739/3739 [==============================] - 0s 2us/step - loss: 9.6085 - val_loss: 4.1258\n",
      "Epoch 436/500\n",
      "3739/3739 [==============================] - 0s 2us/step - loss: 9.4214 - val_loss: 3.8069\n",
      "Epoch 437/500\n",
      "3739/3739 [==============================] - 0s 2us/step - loss: 9.4160 - val_loss: 4.0879\n",
      "Epoch 438/500\n",
      "3739/3739 [==============================] - 0s 2us/step - loss: 9.5963 - val_loss: 3.6929\n",
      "Epoch 439/500\n",
      "3739/3739 [==============================] - 0s 3us/step - loss: 9.2627 - val_loss: 3.6797\n",
      "Epoch 440/500\n",
      "3739/3739 [==============================] - 0s 3us/step - loss: 9.5320 - val_loss: 3.8486\n",
      "Epoch 441/500\n",
      "3739/3739 [==============================] - 0s 2us/step - loss: 9.5556 - val_loss: 3.7490\n",
      "Epoch 442/500\n",
      "3739/3739 [==============================] - 0s 2us/step - loss: 9.6830 - val_loss: 3.7173\n",
      "Epoch 443/500\n",
      "3739/3739 [==============================] - 0s 3us/step - loss: 9.6096 - val_loss: 4.1206\n",
      "Epoch 444/500\n",
      "3739/3739 [==============================] - 0s 3us/step - loss: 9.3817 - val_loss: 3.8061\n",
      "Epoch 445/500\n",
      "3739/3739 [==============================] - 0s 3us/step - loss: 9.3695 - val_loss: 3.6889\n",
      "Epoch 446/500\n",
      "3739/3739 [==============================] - 0s 3us/step - loss: 9.1622 - val_loss: 3.6976\n",
      "Epoch 447/500\n",
      "3739/3739 [==============================] - 0s 2us/step - loss: 9.5555 - val_loss: 4.0123\n",
      "Epoch 448/500\n",
      "3739/3739 [==============================] - 0s 3us/step - loss: 9.5506 - val_loss: 3.6793\n",
      "Epoch 449/500\n",
      "3739/3739 [==============================] - 0s 3us/step - loss: 9.0260 - val_loss: 3.6417\n",
      "Epoch 450/500\n",
      "3739/3739 [==============================] - 0s 3us/step - loss: 9.5101 - val_loss: 3.9325\n",
      "Epoch 451/500\n",
      "3739/3739 [==============================] - 0s 3us/step - loss: 9.6700 - val_loss: 3.9820\n",
      "Epoch 452/500\n",
      "3739/3739 [==============================] - 0s 2us/step - loss: 9.6241 - val_loss: 3.8324\n",
      "Epoch 453/500\n",
      "3739/3739 [==============================] - 0s 3us/step - loss: 9.4506 - val_loss: 4.1366\n",
      "Epoch 454/500\n",
      "3739/3739 [==============================] - 0s 2us/step - loss: 9.4218 - val_loss: 4.2990\n",
      "Epoch 455/500\n",
      "3739/3739 [==============================] - 0s 2us/step - loss: 9.1862 - val_loss: 3.9421\n",
      "Epoch 456/500\n",
      "3739/3739 [==============================] - 0s 3us/step - loss: 9.3483 - val_loss: 3.7141\n",
      "Epoch 457/500\n",
      "3739/3739 [==============================] - 0s 2us/step - loss: 9.5699 - val_loss: 3.9873\n",
      "Epoch 458/500\n",
      "3739/3739 [==============================] - 0s 3us/step - loss: 9.3974 - val_loss: 3.9616\n",
      "Epoch 459/500\n",
      "3739/3739 [==============================] - 0s 2us/step - loss: 9.4646 - val_loss: 4.0046\n",
      "Epoch 460/500\n",
      "3739/3739 [==============================] - 0s 2us/step - loss: 10.1393 - val_loss: 4.0736\n",
      "Epoch 461/500\n",
      "3739/3739 [==============================] - 0s 2us/step - loss: 9.1017 - val_loss: 4.3948\n",
      "Epoch 462/500\n",
      "3739/3739 [==============================] - 0s 3us/step - loss: 9.4271 - val_loss: 3.8473\n",
      "Epoch 463/500\n",
      "3739/3739 [==============================] - 0s 3us/step - loss: 9.6018 - val_loss: 3.9396\n",
      "Epoch 464/500\n",
      "3739/3739 [==============================] - 0s 2us/step - loss: 9.1535 - val_loss: 3.8590\n",
      "Epoch 465/500\n",
      "3739/3739 [==============================] - 0s 2us/step - loss: 9.2516 - val_loss: 3.8429\n",
      "Epoch 466/500\n",
      "3739/3739 [==============================] - 0s 2us/step - loss: 9.6763 - val_loss: 3.8561\n",
      "Epoch 467/500\n",
      "3739/3739 [==============================] - 0s 2us/step - loss: 9.5055 - val_loss: 3.9207\n",
      "Epoch 468/500\n",
      "3739/3739 [==============================] - 0s 2us/step - loss: 9.2463 - val_loss: 4.1917\n",
      "Epoch 469/500\n",
      "3739/3739 [==============================] - 0s 3us/step - loss: 9.1805 - val_loss: 4.7392\n",
      "Epoch 470/500\n",
      "3739/3739 [==============================] - 0s 3us/step - loss: 9.3403 - val_loss: 4.7779\n",
      "Epoch 471/500\n",
      "3739/3739 [==============================] - 0s 3us/step - loss: 9.5410 - val_loss: 3.9533\n",
      "Epoch 472/500\n",
      "3739/3739 [==============================] - 0s 3us/step - loss: 9.3741 - val_loss: 3.9158\n",
      "Epoch 473/500\n",
      "3739/3739 [==============================] - 0s 3us/step - loss: 9.3700 - val_loss: 4.9277\n",
      "Epoch 474/500\n",
      "3739/3739 [==============================] - 0s 3us/step - loss: 9.5925 - val_loss: 4.7426\n",
      "Epoch 475/500\n",
      "3739/3739 [==============================] - 0s 3us/step - loss: 9.4870 - val_loss: 3.8095\n",
      "Epoch 476/500\n",
      "3739/3739 [==============================] - 0s 3us/step - loss: 9.2332 - val_loss: 4.8194\n",
      "Epoch 477/500\n",
      "3739/3739 [==============================] - 0s 3us/step - loss: 9.5424 - val_loss: 4.4007\n",
      "Epoch 478/500\n",
      "3739/3739 [==============================] - 0s 3us/step - loss: 9.0285 - val_loss: 3.7618\n",
      "Epoch 479/500\n",
      "3739/3739 [==============================] - 0s 3us/step - loss: 9.3455 - val_loss: 4.3525\n",
      "Epoch 480/500\n",
      "3739/3739 [==============================] - 0s 2us/step - loss: 9.1962 - val_loss: 5.2310\n",
      "Epoch 481/500\n",
      "3739/3739 [==============================] - 0s 3us/step - loss: 9.1643 - val_loss: 4.5726\n",
      "Epoch 482/500\n",
      "3739/3739 [==============================] - 0s 2us/step - loss: 9.5928 - val_loss: 3.7113\n",
      "Epoch 483/500\n",
      "3739/3739 [==============================] - 0s 2us/step - loss: 9.2939 - val_loss: 3.9559\n",
      "Epoch 484/500\n",
      "3739/3739 [==============================] - 0s 3us/step - loss: 9.2905 - val_loss: 3.8535\n",
      "Epoch 485/500\n",
      "3739/3739 [==============================] - 0s 2us/step - loss: 9.4861 - val_loss: 3.6508\n",
      "Epoch 486/500\n",
      "3739/3739 [==============================] - 0s 3us/step - loss: 9.4887 - val_loss: 3.6512\n",
      "Epoch 487/500\n",
      "3739/3739 [==============================] - 0s 3us/step - loss: 9.1755 - val_loss: 3.8575\n",
      "Epoch 488/500\n",
      "3739/3739 [==============================] - 0s 3us/step - loss: 9.6448 - val_loss: 3.9672\n",
      "Epoch 489/500\n",
      "3739/3739 [==============================] - 0s 3us/step - loss: 9.4824 - val_loss: 3.6069\n",
      "Epoch 490/500\n",
      "3739/3739 [==============================] - 0s 3us/step - loss: 9.4401 - val_loss: 3.6962\n",
      "Epoch 491/500\n",
      "3739/3739 [==============================] - 0s 3us/step - loss: 9.2635 - val_loss: 3.7056\n",
      "Epoch 492/500\n",
      "3739/3739 [==============================] - 0s 2us/step - loss: 9.4378 - val_loss: 3.6100\n",
      "Epoch 493/500\n",
      "3739/3739 [==============================] - 0s 2us/step - loss: 9.4724 - val_loss: 3.6514\n",
      "Epoch 494/500\n",
      "3739/3739 [==============================] - 0s 2us/step - loss: 9.3477 - val_loss: 3.6930\n",
      "Epoch 495/500\n",
      "3739/3739 [==============================] - 0s 2us/step - loss: 9.4760 - val_loss: 3.6010\n",
      "Epoch 496/500\n",
      "3739/3739 [==============================] - 0s 2us/step - loss: 9.3461 - val_loss: 3.6036\n",
      "Epoch 497/500\n",
      "3739/3739 [==============================] - 0s 2us/step - loss: 9.2559 - val_loss: 3.8318\n",
      "Epoch 498/500\n",
      "3739/3739 [==============================] - 0s 3us/step - loss: 9.2780 - val_loss: 3.7080\n",
      "Epoch 499/500\n",
      "3739/3739 [==============================] - 0s 3us/step - loss: 8.8627 - val_loss: 3.7330\n",
      "Epoch 500/500\n",
      "3739/3739 [==============================] - 0s 2us/step - loss: 9.1035 - val_loss: 4.3329\n"
     ]
    }
   ],
   "source": [
    "# this can be used to select only a small amount of data\n",
    "# trainsize is the full training size\n",
    "subset_size = X_train.shape[0]\n",
    "train_feature_subset = X_train[:subset_size]\n",
    "train_target_subset = y_train[:subset_size]\n",
    "# we actually fit the model here\n",
    "history = model.fit(train_feature_subset,\n",
    "                    train_target_subset,\n",
    "                    epochs=500,\n",
    "                    validation_split=0.15,\n",
    "                    batch_size=1000)"
   ]
  },
  {
   "cell_type": "code",
   "execution_count": 18,
   "metadata": {},
   "outputs": [],
   "source": [
    "import matplotlib.pyplot as plt\n",
    "%matplotlib inline"
   ]
  },
  {
   "cell_type": "code",
   "execution_count": 19,
   "metadata": {},
   "outputs": [
    {
     "data": {
      "image/png": "[encoded data removed]",
      "text/plain": [
       "<matplotlib.figure.Figure at 0x1a2493b2e8>"
      ]
     },
     "metadata": {},
     "output_type": "display_data"
    }
   ],
   "source": [
    "# check losses for overfitting and performance\n",
    "plt.plot(history.history['loss'], label = 'training loss')\n",
    "plt.plot(history.history['val_loss'], label = 'validation loss')\n",
    "plt.legend()\n",
    "plt.show()"
   ]
  },
  {
   "cell_type": "code",
   "execution_count": 20,
   "metadata": {},
   "outputs": [],
   "source": [
    "past_preds = model.predict(X_train)[:, 0]\n",
    "future_preds = model.predict(X_test)[:, 0]"
   ]
  },
  {
   "cell_type": "code",
   "execution_count": 23,
   "metadata": {},
   "outputs": [],
   "source": [
    "from sklearn.metrics import r2_score\n",
    "import altair as alt\n",
    "# import numpy as np"
   ]
  },
  {
   "cell_type": "code",
   "execution_count": 41,
   "metadata": {},
   "outputs": [
    {
     "data": {
      "text/html": [
       "<div>\n",
       "<style scoped>\n",
       "    .dataframe tbody tr th:only-of-type {\n",
       "        vertical-align: middle;\n",
       "    }\n",
       "\n",
       "    .dataframe tbody tr th {\n",
       "        vertical-align: top;\n",
       "    }\n",
       "\n",
       "    .dataframe thead th {\n",
       "        text-align: right;\n",
       "    }\n",
       "</style>\n",
       "<table border=\"1\" class=\"dataframe\">\n",
       "  <thead>\n",
       "    <tr style=\"text-align: right;\">\n",
       "      <th></th>\n",
       "      <th>Class</th>\n",
       "      <th>Prediction</th>\n",
       "    </tr>\n",
       "  </thead>\n",
       "  <tbody>\n",
       "    <tr>\n",
       "      <th>0</th>\n",
       "      <td>13</td>\n",
       "      <td>12</td>\n",
       "    </tr>\n",
       "    <tr>\n",
       "      <th>1</th>\n",
       "      <td>4</td>\n",
       "      <td>3</td>\n",
       "    </tr>\n",
       "    <tr>\n",
       "      <th>2</th>\n",
       "      <td>14</td>\n",
       "      <td>13</td>\n",
       "    </tr>\n",
       "    <tr>\n",
       "      <th>3</th>\n",
       "      <td>13</td>\n",
       "      <td>10</td>\n",
       "    </tr>\n",
       "    <tr>\n",
       "      <th>4</th>\n",
       "      <td>9</td>\n",
       "      <td>7</td>\n",
       "    </tr>\n",
       "  </tbody>\n",
       "</table>\n",
       "</div>"
      ],
      "text/plain": [
       "   Class  Prediction\n",
       "0     13          12\n",
       "1      4           3\n",
       "2     14          13\n",
       "3     13          10\n",
       "4      9           7"
      ]
     },
     "execution_count": 41,
     "metadata": {},
     "output_type": "execute_result"
    }
   ],
   "source": [
    "preds = np.round(future_preds).astype(int)\n",
    "results_df = pd.DataFrame({'Class':y_test.astype(int), 'Prediction':preds})\n",
    "results_df.head()"
   ]
  },
  {
   "cell_type": "code",
   "execution_count": 53,
   "metadata": {},
   "outputs": [
    {
     "data": {
      "application/vnd.vegalite.v2+json": {
       "$schema": "https://vega.github.io/schema/vega-lite/v2.6.0.json",
       "config": {
        "view": {
         "height": 300,
         "width": 400
        }
       },
       "datasets": {
        "data-7886c87d7a0704f9d9c5a5093b66924c": [
         {
          "Class": 13,
          "Prediction": 12
         },
         {
          "Class": 4,
          "Prediction": 3
         },
         {
          "Class": 14,
          "Prediction": 13
         },
         {
          "Class": 13,
          "Prediction": 10
         },
         {
          "Class": 9,
          "Prediction": 7
         },
         {
          "Class": 6,
          "Prediction": 5
         },
         {
          "Class": 2,
          "Prediction": 3
         },
         {
          "Class": 2,
          "Prediction": 5
         },
         {
          "Class": 6,
          "Prediction": 3
         },
         {
          "Class": 8,
          "Prediction": 6
         },
         {
          "Class": 3,
          "Prediction": 5
         },
         {
          "Class": 4,
          "Prediction": 5
         },
         {
          "Class": 2,
          "Prediction": 6
         },
         {
          "Class": 3,
          "Prediction": 5
         },
         {
          "Class": 8,
          "Prediction": 7
         },
         {
          "Class": 9,
          "Prediction": 7
         },
         {
          "Class": 6,
          "Prediction": 6
         },
         {
          "Class": 14,
          "Prediction": 14
         },
         {
          "Class": 2,
          "Prediction": 3
         },
         {
          "Class": 10,
          "Prediction": 5
         },
         {
          "Class": 9,
          "Prediction": 5
         },
         {
          "Class": 10,
          "Prediction": 6
         },
         {
          "Class": 6,
          "Prediction": 6
         },
         {
          "Class": 3,
          "Prediction": 3
         },
         {
          "Class": 6,
          "Prediction": 5
         },
         {
          "Class": 3,
          "Prediction": 3
         },
         {
          "Class": 14,
          "Prediction": 14
         },
         {
          "Class": 13,
          "Prediction": 14
         },
         {
          "Class": 3,
          "Prediction": 4
         },
         {
          "Class": 13,
          "Prediction": 10
         },
         {
          "Class": 10,
          "Prediction": 9
         },
         {
          "Class": 12,
          "Prediction": 11
         },
         {
          "Class": 7,
          "Prediction": 7
         },
         {
          "Class": 3,
          "Prediction": 6
         },
         {
          "Class": 9,
          "Prediction": 7
         },
         {
          "Class": 4,
          "Prediction": 3
         },
         {
          "Class": 2,
          "Prediction": 4
         },
         {
          "Class": 10,
          "Prediction": 7
         },
         {
          "Class": 12,
          "Prediction": 10
         },
         {
          "Class": 13,
          "Prediction": 11
         },
         {
          "Class": 6,
          "Prediction": 6
         },
         {
          "Class": 9,
          "Prediction": 8
         },
         {
          "Class": 12,
          "Prediction": 10
         },
         {
          "Class": 14,
          "Prediction": 9
         },
         {
          "Class": 14,
          "Prediction": 12
         },
         {
          "Class": 7,
          "Prediction": 6
         },
         {
          "Class": 7,
          "Prediction": 6
         },
         {
          "Class": 2,
          "Prediction": 3
         },
         {
          "Class": 10,
          "Prediction": 11
         },
         {
          "Class": 7,
          "Prediction": 8
         },
         {
          "Class": 10,
          "Prediction": 8
         },
         {
          "Class": 8,
          "Prediction": 7
         },
         {
          "Class": 9,
          "Prediction": 9
         },
         {
          "Class": 13,
          "Prediction": 11
         },
         {
          "Class": 13,
          "Prediction": 11
         },
         {
          "Class": 6,
          "Prediction": 7
         },
         {
          "Class": 4,
          "Prediction": 4
         },
         {
          "Class": 6,
          "Prediction": 7
         },
         {
          "Class": 14,
          "Prediction": 9
         },
         {
          "Class": 2,
          "Prediction": 4
         },
         {
          "Class": 4,
          "Prediction": 3
         },
         {
          "Class": 4,
          "Prediction": 4
         },
         {
          "Class": 12,
          "Prediction": 9
         },
         {
          "Class": 12,
          "Prediction": 10
         },
         {
          "Class": 4,
          "Prediction": 3
         },
         {
          "Class": 3,
          "Prediction": 4
         },
         {
          "Class": 6,
          "Prediction": 5
         },
         {
          "Class": 7,
          "Prediction": 6
         },
         {
          "Class": 4,
          "Prediction": 3
         },
         {
          "Class": 3,
          "Prediction": 4
         },
         {
          "Class": 10,
          "Prediction": 8
         },
         {
          "Class": 12,
          "Prediction": 11
         },
         {
          "Class": 2,
          "Prediction": 3
         },
         {
          "Class": 10,
          "Prediction": 9
         },
         {
          "Class": 7,
          "Prediction": 6
         },
         {
          "Class": 14,
          "Prediction": 13
         },
         {
          "Class": 10,
          "Prediction": 8
         },
         {
          "Class": 7,
          "Prediction": 6
         },
         {
          "Class": 10,
          "Prediction": 6
         },
         {
          "Class": 10,
          "Prediction": 9
         },
         {
          "Class": 14,
          "Prediction": 9
         },
         {
          "Class": 6,
          "Prediction": 8
         },
         {
          "Class": 10,
          "Prediction": 7
         },
         {
          "Class": 9,
          "Prediction": 7
         },
         {
          "Class": 6,
          "Prediction": 8
         },
         {
          "Class": 2,
          "Prediction": 3
         },
         {
          "Class": 3,
          "Prediction": 6
         },
         {
          "Class": 14,
          "Prediction": 10
         },
         {
          "Class": 9,
          "Prediction": 7
         },
         {
          "Class": 6,
          "Prediction": 6
         },
         {
          "Class": 13,
          "Prediction": 10
         },
         {
          "Class": 9,
          "Prediction": 6
         },
         {
          "Class": 9,
          "Prediction": 8
         },
         {
          "Class": 12,
          "Prediction": 8
         },
         {
          "Class": 12,
          "Prediction": 10
         },
         {
          "Class": 7,
          "Prediction": 7
         },
         {
          "Class": 8,
          "Prediction": 9
         },
         {
          "Class": 9,
          "Prediction": 8
         },
         {
          "Class": 7,
          "Prediction": 5
         },
         {
          "Class": 2,
          "Prediction": 4
         },
         {
          "Class": 2,
          "Prediction": 3
         },
         {
          "Class": 10,
          "Prediction": 7
         },
         {
          "Class": 9,
          "Prediction": 6
         },
         {
          "Class": 10,
          "Prediction": 8
         },
         {
          "Class": 13,
          "Prediction": 12
         },
         {
          "Class": 3,
          "Prediction": 3
         },
         {
          "Class": 7,
          "Prediction": 5
         },
         {
          "Class": 9,
          "Prediction": 7
         },
         {
          "Class": 8,
          "Prediction": 7
         },
         {
          "Class": 13,
          "Prediction": 13
         },
         {
          "Class": 10,
          "Prediction": 6
         },
         {
          "Class": 3,
          "Prediction": 4
         },
         {
          "Class": 9,
          "Prediction": 5
         },
         {
          "Class": 4,
          "Prediction": 3
         },
         {
          "Class": 2,
          "Prediction": 3
         },
         {
          "Class": 13,
          "Prediction": 14
         },
         {
          "Class": 4,
          "Prediction": 4
         },
         {
          "Class": 4,
          "Prediction": 4
         },
         {
          "Class": 3,
          "Prediction": 6
         },
         {
          "Class": 2,
          "Prediction": 1
         },
         {
          "Class": 6,
          "Prediction": 7
         },
         {
          "Class": 7,
          "Prediction": 6
         },
         {
          "Class": 12,
          "Prediction": 9
         },
         {
          "Class": 9,
          "Prediction": 7
         },
         {
          "Class": 12,
          "Prediction": 11
         },
         {
          "Class": 14,
          "Prediction": 12
         },
         {
          "Class": 4,
          "Prediction": 2
         },
         {
          "Class": 2,
          "Prediction": 2
         },
         {
          "Class": 9,
          "Prediction": 6
         },
         {
          "Class": 3,
          "Prediction": 4
         },
         {
          "Class": 12,
          "Prediction": 11
         },
         {
          "Class": 13,
          "Prediction": 13
         },
         {
          "Class": 9,
          "Prediction": 9
         },
         {
          "Class": 7,
          "Prediction": 6
         },
         {
          "Class": 9,
          "Prediction": 7
         },
         {
          "Class": 14,
          "Prediction": 11
         },
         {
          "Class": 4,
          "Prediction": 2
         },
         {
          "Class": 4,
          "Prediction": 3
         },
         {
          "Class": 12,
          "Prediction": 11
         },
         {
          "Class": 14,
          "Prediction": 9
         },
         {
          "Class": 12,
          "Prediction": 11
         },
         {
          "Class": 2,
          "Prediction": 3
         },
         {
          "Class": 10,
          "Prediction": 4
         },
         {
          "Class": 13,
          "Prediction": 12
         },
         {
          "Class": 3,
          "Prediction": 5
         },
         {
          "Class": 8,
          "Prediction": 9
         },
         {
          "Class": 14,
          "Prediction": 11
         },
         {
          "Class": 14,
          "Prediction": 11
         },
         {
          "Class": 9,
          "Prediction": 7
         },
         {
          "Class": 8,
          "Prediction": 9
         },
         {
          "Class": 9,
          "Prediction": 7
         },
         {
          "Class": 13,
          "Prediction": 12
         },
         {
          "Class": 8,
          "Prediction": 9
         },
         {
          "Class": 8,
          "Prediction": 9
         },
         {
          "Class": 2,
          "Prediction": 3
         },
         {
          "Class": 10,
          "Prediction": 9
         },
         {
          "Class": 4,
          "Prediction": 3
         },
         {
          "Class": 4,
          "Prediction": 4
         },
         {
          "Class": 2,
          "Prediction": 3
         },
         {
          "Class": 4,
          "Prediction": 1
         },
         {
          "Class": 3,
          "Prediction": 3
         },
         {
          "Class": 7,
          "Prediction": 7
         },
         {
          "Class": 8,
          "Prediction": 7
         },
         {
          "Class": 2,
          "Prediction": 3
         },
         {
          "Class": 4,
          "Prediction": 3
         },
         {
          "Class": 7,
          "Prediction": 6
         },
         {
          "Class": 9,
          "Prediction": 9
         },
         {
          "Class": 3,
          "Prediction": 3
         },
         {
          "Class": 13,
          "Prediction": 12
         },
         {
          "Class": 6,
          "Prediction": 7
         },
         {
          "Class": 2,
          "Prediction": 3
         },
         {
          "Class": 10,
          "Prediction": 7
         },
         {
          "Class": 14,
          "Prediction": 11
         },
         {
          "Class": 14,
          "Prediction": 10
         },
         {
          "Class": 3,
          "Prediction": 6
         },
         {
          "Class": 9,
          "Prediction": 6
         },
         {
          "Class": 4,
          "Prediction": 4
         },
         {
          "Class": 4,
          "Prediction": 2
         },
         {
          "Class": 13,
          "Prediction": 13
         },
         {
          "Class": 9,
          "Prediction": 5
         },
         {
          "Class": 2,
          "Prediction": 3
         },
         {
          "Class": 14,
          "Prediction": 12
         },
         {
          "Class": 4,
          "Prediction": 4
         },
         {
          "Class": 2,
          "Prediction": 6
         },
         {
          "Class": 9,
          "Prediction": 7
         },
         {
          "Class": 10,
          "Prediction": 9
         },
         {
          "Class": 14,
          "Prediction": 10
         },
         {
          "Class": 14,
          "Prediction": 12
         },
         {
          "Class": 12,
          "Prediction": 10
         },
         {
          "Class": 6,
          "Prediction": 5
         },
         {
          "Class": 14,
          "Prediction": 11
         },
         {
          "Class": 7,
          "Prediction": 6
         },
         {
          "Class": 6,
          "Prediction": 4
         },
         {
          "Class": 2,
          "Prediction": 4
         },
         {
          "Class": 10,
          "Prediction": 7
         },
         {
          "Class": 8,
          "Prediction": 7
         },
         {
          "Class": 2,
          "Prediction": 4
         },
         {
          "Class": 7,
          "Prediction": 6
         },
         {
          "Class": 3,
          "Prediction": 6
         },
         {
          "Class": 6,
          "Prediction": 5
         },
         {
          "Class": 13,
          "Prediction": 15
         },
         {
          "Class": 12,
          "Prediction": 12
         },
         {
          "Class": 13,
          "Prediction": 11
         },
         {
          "Class": 13,
          "Prediction": 10
         },
         {
          "Class": 6,
          "Prediction": 8
         },
         {
          "Class": 10,
          "Prediction": 6
         },
         {
          "Class": 9,
          "Prediction": 9
         },
         {
          "Class": 2,
          "Prediction": 3
         },
         {
          "Class": 9,
          "Prediction": 10
         },
         {
          "Class": 4,
          "Prediction": 4
         },
         {
          "Class": 8,
          "Prediction": 6
         },
         {
          "Class": 4,
          "Prediction": 3
         },
         {
          "Class": 4,
          "Prediction": 3
         },
         {
          "Class": 12,
          "Prediction": 9
         },
         {
          "Class": 13,
          "Prediction": 12
         },
         {
          "Class": 6,
          "Prediction": 4
         },
         {
          "Class": 8,
          "Prediction": 7
         },
         {
          "Class": 4,
          "Prediction": 2
         },
         {
          "Class": 13,
          "Prediction": 13
         },
         {
          "Class": 6,
          "Prediction": 5
         },
         {
          "Class": 2,
          "Prediction": 3
         },
         {
          "Class": 3,
          "Prediction": 4
         },
         {
          "Class": 10,
          "Prediction": 7
         },
         {
          "Class": 4,
          "Prediction": 5
         },
         {
          "Class": 6,
          "Prediction": 6
         },
         {
          "Class": 8,
          "Prediction": 7
         },
         {
          "Class": 7,
          "Prediction": 6
         },
         {
          "Class": 3,
          "Prediction": 4
         },
         {
          "Class": 14,
          "Prediction": 10
         },
         {
          "Class": 9,
          "Prediction": 7
         },
         {
          "Class": 13,
          "Prediction": 9
         },
         {
          "Class": 7,
          "Prediction": 6
         },
         {
          "Class": 2,
          "Prediction": 5
         },
         {
          "Class": 9,
          "Prediction": 9
         },
         {
          "Class": 2,
          "Prediction": 5
         },
         {
          "Class": 8,
          "Prediction": 7
         },
         {
          "Class": 4,
          "Prediction": 3
         },
         {
          "Class": 3,
          "Prediction": 5
         },
         {
          "Class": 9,
          "Prediction": 9
         },
         {
          "Class": 4,
          "Prediction": 3
         },
         {
          "Class": 3,
          "Prediction": 3
         },
         {
          "Class": 6,
          "Prediction": 6
         },
         {
          "Class": 10,
          "Prediction": 10
         },
         {
          "Class": 7,
          "Prediction": 7
         },
         {
          "Class": 8,
          "Prediction": 6
         },
         {
          "Class": 14,
          "Prediction": 11
         },
         {
          "Class": 12,
          "Prediction": 10
         },
         {
          "Class": 13,
          "Prediction": 13
         },
         {
          "Class": 6,
          "Prediction": 5
         },
         {
          "Class": 8,
          "Prediction": 7
         },
         {
          "Class": 13,
          "Prediction": 13
         },
         {
          "Class": 2,
          "Prediction": 3
         },
         {
          "Class": 3,
          "Prediction": 4
         },
         {
          "Class": 2,
          "Prediction": 4
         },
         {
          "Class": 7,
          "Prediction": 6
         },
         {
          "Class": 7,
          "Prediction": 5
         },
         {
          "Class": 4,
          "Prediction": 4
         },
         {
          "Class": 7,
          "Prediction": 4
         },
         {
          "Class": 10,
          "Prediction": 5
         },
         {
          "Class": 14,
          "Prediction": 10
         },
         {
          "Class": 12,
          "Prediction": 10
         },
         {
          "Class": 10,
          "Prediction": 7
         },
         {
          "Class": 6,
          "Prediction": 6
         },
         {
          "Class": 6,
          "Prediction": 5
         },
         {
          "Class": 2,
          "Prediction": 4
         },
         {
          "Class": 8,
          "Prediction": 7
         },
         {
          "Class": 14,
          "Prediction": 12
         },
         {
          "Class": 13,
          "Prediction": 13
         },
         {
          "Class": 4,
          "Prediction": 3
         },
         {
          "Class": 10,
          "Prediction": 9
         },
         {
          "Class": 14,
          "Prediction": 9
         },
         {
          "Class": 4,
          "Prediction": 2
         },
         {
          "Class": 6,
          "Prediction": 6
         },
         {
          "Class": 14,
          "Prediction": 11
         },
         {
          "Class": 14,
          "Prediction": 14
         },
         {
          "Class": 2,
          "Prediction": 3
         },
         {
          "Class": 13,
          "Prediction": 11
         },
         {
          "Class": 2,
          "Prediction": 2
         },
         {
          "Class": 10,
          "Prediction": 12
         },
         {
          "Class": 13,
          "Prediction": 13
         },
         {
          "Class": 3,
          "Prediction": 5
         },
         {
          "Class": 4,
          "Prediction": 3
         },
         {
          "Class": 10,
          "Prediction": 8
         },
         {
          "Class": 8,
          "Prediction": 5
         },
         {
          "Class": 4,
          "Prediction": 3
         },
         {
          "Class": 6,
          "Prediction": 6
         },
         {
          "Class": 2,
          "Prediction": 4
         },
         {
          "Class": 9,
          "Prediction": 6
         },
         {
          "Class": 4,
          "Prediction": 3
         },
         {
          "Class": 2,
          "Prediction": 3
         },
         {
          "Class": 4,
          "Prediction": 2
         },
         {
          "Class": 6,
          "Prediction": 6
         },
         {
          "Class": 2,
          "Prediction": 4
         },
         {
          "Class": 12,
          "Prediction": 11
         },
         {
          "Class": 3,
          "Prediction": 6
         },
         {
          "Class": 4,
          "Prediction": 3
         },
         {
          "Class": 9,
          "Prediction": 7
         },
         {
          "Class": 10,
          "Prediction": 8
         },
         {
          "Class": 4,
          "Prediction": 3
         },
         {
          "Class": 2,
          "Prediction": 3
         },
         {
          "Class": 14,
          "Prediction": 10
         },
         {
          "Class": 9,
          "Prediction": 7
         },
         {
          "Class": 2,
          "Prediction": 3
         },
         {
          "Class": 3,
          "Prediction": 5
         },
         {
          "Class": 13,
          "Prediction": 15
         },
         {
          "Class": 12,
          "Prediction": 8
         },
         {
          "Class": 10,
          "Prediction": 10
         },
         {
          "Class": 10,
          "Prediction": 6
         },
         {
          "Class": 13,
          "Prediction": 12
         },
         {
          "Class": 10,
          "Prediction": 9
         },
         {
          "Class": 14,
          "Prediction": 11
         },
         {
          "Class": 8,
          "Prediction": 6
         },
         {
          "Class": 8,
          "Prediction": 8
         },
         {
          "Class": 4,
          "Prediction": 3
         },
         {
          "Class": 8,
          "Prediction": 6
         },
         {
          "Class": 12,
          "Prediction": 10
         },
         {
          "Class": 4,
          "Prediction": 4
         },
         {
          "Class": 12,
          "Prediction": 10
         },
         {
          "Class": 4,
          "Prediction": 1
         },
         {
          "Class": 12,
          "Prediction": 10
         },
         {
          "Class": 2,
          "Prediction": 4
         },
         {
          "Class": 6,
          "Prediction": 6
         },
         {
          "Class": 2,
          "Prediction": 4
         },
         {
          "Class": 10,
          "Prediction": 5
         },
         {
          "Class": 10,
          "Prediction": 8
         },
         {
          "Class": 3,
          "Prediction": 5
         },
         {
          "Class": 2,
          "Prediction": 2
         },
         {
          "Class": 3,
          "Prediction": 6
         },
         {
          "Class": 7,
          "Prediction": 6
         },
         {
          "Class": 4,
          "Prediction": 4
         },
         {
          "Class": 7,
          "Prediction": 6
         },
         {
          "Class": 13,
          "Prediction": 13
         },
         {
          "Class": 13,
          "Prediction": 12
         },
         {
          "Class": 7,
          "Prediction": 6
         },
         {
          "Class": 13,
          "Prediction": 9
         },
         {
          "Class": 4,
          "Prediction": 3
         },
         {
          "Class": 6,
          "Prediction": 5
         },
         {
          "Class": 13,
          "Prediction": 13
         },
         {
          "Class": 13,
          "Prediction": 12
         },
         {
          "Class": 13,
          "Prediction": 12
         },
         {
          "Class": 2,
          "Prediction": 3
         },
         {
          "Class": 14,
          "Prediction": 11
         },
         {
          "Class": 3,
          "Prediction": 6
         },
         {
          "Class": 4,
          "Prediction": 3
         },
         {
          "Class": 10,
          "Prediction": 9
         },
         {
          "Class": 6,
          "Prediction": 8
         },
         {
          "Class": 13,
          "Prediction": 12
         },
         {
          "Class": 6,
          "Prediction": 8
         },
         {
          "Class": 2,
          "Prediction": 3
         },
         {
          "Class": 10,
          "Prediction": 7
         },
         {
          "Class": 3,
          "Prediction": 4
         },
         {
          "Class": 9,
          "Prediction": 7
         },
         {
          "Class": 9,
          "Prediction": 7
         },
         {
          "Class": 4,
          "Prediction": 4
         },
         {
          "Class": 13,
          "Prediction": 13
         },
         {
          "Class": 3,
          "Prediction": 3
         },
         {
          "Class": 14,
          "Prediction": 10
         },
         {
          "Class": 3,
          "Prediction": 5
         },
         {
          "Class": 10,
          "Prediction": 8
         },
         {
          "Class": 7,
          "Prediction": 5
         },
         {
          "Class": 3,
          "Prediction": 5
         },
         {
          "Class": 3,
          "Prediction": 5
         },
         {
          "Class": 2,
          "Prediction": 5
         },
         {
          "Class": 10,
          "Prediction": 8
         },
         {
          "Class": 4,
          "Prediction": 1
         },
         {
          "Class": 13,
          "Prediction": 13
         },
         {
          "Class": 13,
          "Prediction": 11
         },
         {
          "Class": 2,
          "Prediction": 4
         },
         {
          "Class": 2,
          "Prediction": 5
         },
         {
          "Class": 14,
          "Prediction": 14
         },
         {
          "Class": 2,
          "Prediction": 3
         },
         {
          "Class": 10,
          "Prediction": 7
         },
         {
          "Class": 12,
          "Prediction": 10
         },
         {
          "Class": 12,
          "Prediction": 10
         },
         {
          "Class": 8,
          "Prediction": 6
         },
         {
          "Class": 10,
          "Prediction": 8
         },
         {
          "Class": 9,
          "Prediction": 8
         },
         {
          "Class": 8,
          "Prediction": 6
         },
         {
          "Class": 14,
          "Prediction": 11
         },
         {
          "Class": 13,
          "Prediction": 14
         },
         {
          "Class": 13,
          "Prediction": 12
         },
         {
          "Class": 12,
          "Prediction": 8
         },
         {
          "Class": 9,
          "Prediction": 6
         },
         {
          "Class": 14,
          "Prediction": 10
         },
         {
          "Class": 3,
          "Prediction": 3
         },
         {
          "Class": 10,
          "Prediction": 7
         },
         {
          "Class": 8,
          "Prediction": 6
         },
         {
          "Class": 9,
          "Prediction": 6
         },
         {
          "Class": 6,
          "Prediction": 7
         },
         {
          "Class": 9,
          "Prediction": 8
         },
         {
          "Class": 6,
          "Prediction": 7
         },
         {
          "Class": 9,
          "Prediction": 7
         },
         {
          "Class": 2,
          "Prediction": 4
         },
         {
          "Class": 12,
          "Prediction": 9
         },
         {
          "Class": 13,
          "Prediction": 12
         },
         {
          "Class": 13,
          "Prediction": 10
         },
         {
          "Class": 3,
          "Prediction": 5
         },
         {
          "Class": 13,
          "Prediction": 11
         },
         {
          "Class": 7,
          "Prediction": 4
         },
         {
          "Class": 10,
          "Prediction": 7
         },
         {
          "Class": 13,
          "Prediction": 10
         },
         {
          "Class": 6,
          "Prediction": 5
         },
         {
          "Class": 12,
          "Prediction": 12
         },
         {
          "Class": 14,
          "Prediction": 11
         },
         {
          "Class": 3,
          "Prediction": 5
         },
         {
          "Class": 10,
          "Prediction": 11
         },
         {
          "Class": 7,
          "Prediction": 6
         },
         {
          "Class": 7,
          "Prediction": 5
         },
         {
          "Class": 9,
          "Prediction": 5
         },
         {
          "Class": 8,
          "Prediction": 8
         },
         {
          "Class": 3,
          "Prediction": 3
         },
         {
          "Class": 3,
          "Prediction": 4
         },
         {
          "Class": 7,
          "Prediction": 6
         },
         {
          "Class": 2,
          "Prediction": 4
         },
         {
          "Class": 7,
          "Prediction": 7
         },
         {
          "Class": 12,
          "Prediction": 8
         },
         {
          "Class": 12,
          "Prediction": 11
         },
         {
          "Class": 6,
          "Prediction": 5
         },
         {
          "Class": 7,
          "Prediction": 6
         },
         {
          "Class": 13,
          "Prediction": 11
         },
         {
          "Class": 10,
          "Prediction": 9
         },
         {
          "Class": 13,
          "Prediction": 13
         },
         {
          "Class": 4,
          "Prediction": 3
         },
         {
          "Class": 4,
          "Prediction": 2
         },
         {
          "Class": 6,
          "Prediction": 6
         },
         {
          "Class": 10,
          "Prediction": 6
         },
         {
          "Class": 14,
          "Prediction": 10
         },
         {
          "Class": 2,
          "Prediction": 3
         },
         {
          "Class": 8,
          "Prediction": 9
         },
         {
          "Class": 8,
          "Prediction": 5
         },
         {
          "Class": 3,
          "Prediction": 3
         },
         {
          "Class": 6,
          "Prediction": 5
         },
         {
          "Class": 2,
          "Prediction": 3
         },
         {
          "Class": 9,
          "Prediction": 7
         },
         {
          "Class": 6,
          "Prediction": 4
         },
         {
          "Class": 3,
          "Prediction": 4
         },
         {
          "Class": 6,
          "Prediction": 6
         },
         {
          "Class": 7,
          "Prediction": 7
         },
         {
          "Class": 7,
          "Prediction": 5
         },
         {
          "Class": 6,
          "Prediction": 6
         },
         {
          "Class": 14,
          "Prediction": 11
         },
         {
          "Class": 12,
          "Prediction": 9
         },
         {
          "Class": 7,
          "Prediction": 7
         },
         {
          "Class": 12,
          "Prediction": 11
         },
         {
          "Class": 3,
          "Prediction": 6
         },
         {
          "Class": 14,
          "Prediction": 11
         },
         {
          "Class": 8,
          "Prediction": 10
         },
         {
          "Class": 2,
          "Prediction": 4
         },
         {
          "Class": 9,
          "Prediction": 7
         },
         {
          "Class": 3,
          "Prediction": 6
         },
         {
          "Class": 4,
          "Prediction": 3
         },
         {
          "Class": 8,
          "Prediction": 6
         },
         {
          "Class": 13,
          "Prediction": 12
         },
         {
          "Class": 9,
          "Prediction": 7
         },
         {
          "Class": 3,
          "Prediction": 3
         },
         {
          "Class": 8,
          "Prediction": 10
         },
         {
          "Class": 9,
          "Prediction": 7
         },
         {
          "Class": 6,
          "Prediction": 7
         },
         {
          "Class": 10,
          "Prediction": 7
         },
         {
          "Class": 9,
          "Prediction": 8
         },
         {
          "Class": 14,
          "Prediction": 12
         },
         {
          "Class": 12,
          "Prediction": 8
         },
         {
          "Class": 4,
          "Prediction": 4
         },
         {
          "Class": 6,
          "Prediction": 6
         },
         {
          "Class": 14,
          "Prediction": 10
         },
         {
          "Class": 7,
          "Prediction": 6
         },
         {
          "Class": 2,
          "Prediction": 2
         },
         {
          "Class": 8,
          "Prediction": 9
         },
         {
          "Class": 10,
          "Prediction": 7
         },
         {
          "Class": 6,
          "Prediction": 6
         },
         {
          "Class": 6,
          "Prediction": 8
         },
         {
          "Class": 2,
          "Prediction": 5
         },
         {
          "Class": 12,
          "Prediction": 11
         },
         {
          "Class": 12,
          "Prediction": 11
         },
         {
          "Class": 9,
          "Prediction": 6
         },
         {
          "Class": 8,
          "Prediction": 7
         },
         {
          "Class": 3,
          "Prediction": 5
         },
         {
          "Class": 7,
          "Prediction": 6
         },
         {
          "Class": 7,
          "Prediction": 6
         },
         {
          "Class": 8,
          "Prediction": 6
         },
         {
          "Class": 4,
          "Prediction": 3
         },
         {
          "Class": 12,
          "Prediction": 10
         },
         {
          "Class": 10,
          "Prediction": 8
         },
         {
          "Class": 9,
          "Prediction": 8
         },
         {
          "Class": 7,
          "Prediction": 8
         },
         {
          "Class": 4,
          "Prediction": 2
         },
         {
          "Class": 9,
          "Prediction": 6
         },
         {
          "Class": 4,
          "Prediction": 4
         },
         {
          "Class": 13,
          "Prediction": 14
         },
         {
          "Class": 12,
          "Prediction": 8
         },
         {
          "Class": 2,
          "Prediction": 4
         },
         {
          "Class": 10,
          "Prediction": 7
         },
         {
          "Class": 4,
          "Prediction": 2
         },
         {
          "Class": 9,
          "Prediction": 6
         },
         {
          "Class": 6,
          "Prediction": 7
         },
         {
          "Class": 12,
          "Prediction": 8
         },
         {
          "Class": 2,
          "Prediction": 2
         },
         {
          "Class": 13,
          "Prediction": 11
         },
         {
          "Class": 3,
          "Prediction": 4
         },
         {
          "Class": 13,
          "Prediction": 13
         },
         {
          "Class": 3,
          "Prediction": 4
         },
         {
          "Class": 4,
          "Prediction": 3
         },
         {
          "Class": 7,
          "Prediction": 6
         },
         {
          "Class": 13,
          "Prediction": 12
         },
         {
          "Class": 10,
          "Prediction": 7
         },
         {
          "Class": 10,
          "Prediction": 7
         },
         {
          "Class": 7,
          "Prediction": 4
         },
         {
          "Class": 4,
          "Prediction": 4
         },
         {
          "Class": 14,
          "Prediction": 9
         },
         {
          "Class": 3,
          "Prediction": 6
         },
         {
          "Class": 14,
          "Prediction": 10
         },
         {
          "Class": 8,
          "Prediction": 7
         },
         {
          "Class": 12,
          "Prediction": 11
         },
         {
          "Class": 8,
          "Prediction": 6
         },
         {
          "Class": 13,
          "Prediction": 11
         },
         {
          "Class": 4,
          "Prediction": 2
         },
         {
          "Class": 10,
          "Prediction": 8
         },
         {
          "Class": 2,
          "Prediction": 4
         },
         {
          "Class": 4,
          "Prediction": 2
         },
         {
          "Class": 10,
          "Prediction": 9
         },
         {
          "Class": 8,
          "Prediction": 8
         },
         {
          "Class": 3,
          "Prediction": 3
         },
         {
          "Class": 2,
          "Prediction": 3
         },
         {
          "Class": 12,
          "Prediction": 10
         },
         {
          "Class": 13,
          "Prediction": 13
         },
         {
          "Class": 14,
          "Prediction": 12
         },
         {
          "Class": 4,
          "Prediction": 4
         },
         {
          "Class": 8,
          "Prediction": 5
         },
         {
          "Class": 4,
          "Prediction": 3
         },
         {
          "Class": 14,
          "Prediction": 12
         },
         {
          "Class": 2,
          "Prediction": 3
         },
         {
          "Class": 8,
          "Prediction": 7
         },
         {
          "Class": 10,
          "Prediction": 7
         },
         {
          "Class": 8,
          "Prediction": 8
         },
         {
          "Class": 6,
          "Prediction": 6
         },
         {
          "Class": 9,
          "Prediction": 9
         },
         {
          "Class": 2,
          "Prediction": 4
         },
         {
          "Class": 3,
          "Prediction": 6
         },
         {
          "Class": 13,
          "Prediction": 11
         },
         {
          "Class": 10,
          "Prediction": 7
         },
         {
          "Class": 6,
          "Prediction": 8
         },
         {
          "Class": 2,
          "Prediction": 2
         },
         {
          "Class": 4,
          "Prediction": 1
         },
         {
          "Class": 4,
          "Prediction": 3
         },
         {
          "Class": 6,
          "Prediction": 7
         },
         {
          "Class": 6,
          "Prediction": 5
         },
         {
          "Class": 12,
          "Prediction": 9
         },
         {
          "Class": 6,
          "Prediction": 4
         },
         {
          "Class": 2,
          "Prediction": 3
         },
         {
          "Class": 4,
          "Prediction": 3
         },
         {
          "Class": 2,
          "Prediction": 3
         },
         {
          "Class": 10,
          "Prediction": 9
         },
         {
          "Class": 4,
          "Prediction": 3
         },
         {
          "Class": 6,
          "Prediction": 7
         },
         {
          "Class": 13,
          "Prediction": 10
         },
         {
          "Class": 7,
          "Prediction": 5
         },
         {
          "Class": 10,
          "Prediction": 6
         },
         {
          "Class": 2,
          "Prediction": 4
         },
         {
          "Class": 2,
          "Prediction": 4
         },
         {
          "Class": 13,
          "Prediction": 10
         },
         {
          "Class": 12,
          "Prediction": 10
         },
         {
          "Class": 8,
          "Prediction": 5
         },
         {
          "Class": 2,
          "Prediction": 3
         },
         {
          "Class": 9,
          "Prediction": 7
         },
         {
          "Class": 7,
          "Prediction": 5
         },
         {
          "Class": 4,
          "Prediction": 2
         },
         {
          "Class": 4,
          "Prediction": 3
         },
         {
          "Class": 12,
          "Prediction": 10
         },
         {
          "Class": 4,
          "Prediction": 3
         },
         {
          "Class": 13,
          "Prediction": 13
         },
         {
          "Class": 4,
          "Prediction": 2
         },
         {
          "Class": 12,
          "Prediction": 10
         },
         {
          "Class": 10,
          "Prediction": 6
         },
         {
          "Class": 13,
          "Prediction": 9
         },
         {
          "Class": 9,
          "Prediction": 6
         },
         {
          "Class": 12,
          "Prediction": 9
         },
         {
          "Class": 10,
          "Prediction": 7
         },
         {
          "Class": 9,
          "Prediction": 8
         },
         {
          "Class": 13,
          "Prediction": 13
         },
         {
          "Class": 3,
          "Prediction": 2
         },
         {
          "Class": 4,
          "Prediction": 3
         },
         {
          "Class": 6,
          "Prediction": 7
         },
         {
          "Class": 6,
          "Prediction": 5
         },
         {
          "Class": 13,
          "Prediction": 10
         },
         {
          "Class": 14,
          "Prediction": 12
         },
         {
          "Class": 12,
          "Prediction": 11
         },
         {
          "Class": 7,
          "Prediction": 6
         },
         {
          "Class": 9,
          "Prediction": 6
         },
         {
          "Class": 6,
          "Prediction": 7
         },
         {
          "Class": 6,
          "Prediction": 5
         },
         {
          "Class": 10,
          "Prediction": 12
         },
         {
          "Class": 7,
          "Prediction": 6
         },
         {
          "Class": 4,
          "Prediction": 3
         },
         {
          "Class": 2,
          "Prediction": 3
         },
         {
          "Class": 7,
          "Prediction": 7
         },
         {
          "Class": 13,
          "Prediction": 11
         },
         {
          "Class": 13,
          "Prediction": 13
         },
         {
          "Class": 14,
          "Prediction": 9
         },
         {
          "Class": 3,
          "Prediction": 3
         },
         {
          "Class": 2,
          "Prediction": 4
         },
         {
          "Class": 9,
          "Prediction": 6
         },
         {
          "Class": 14,
          "Prediction": 13
         },
         {
          "Class": 10,
          "Prediction": 6
         },
         {
          "Class": 2,
          "Prediction": 4
         },
         {
          "Class": 7,
          "Prediction": 6
         },
         {
          "Class": 2,
          "Prediction": 4
         },
         {
          "Class": 4,
          "Prediction": 3
         },
         {
          "Class": 7,
          "Prediction": 4
         },
         {
          "Class": 8,
          "Prediction": 8
         },
         {
          "Class": 4,
          "Prediction": 4
         },
         {
          "Class": 10,
          "Prediction": 7
         },
         {
          "Class": 7,
          "Prediction": 6
         },
         {
          "Class": 8,
          "Prediction": 10
         },
         {
          "Class": 6,
          "Prediction": 6
         },
         {
          "Class": 4,
          "Prediction": 3
         },
         {
          "Class": 14,
          "Prediction": 11
         },
         {
          "Class": 12,
          "Prediction": 11
         },
         {
          "Class": 3,
          "Prediction": 5
         },
         {
          "Class": 7,
          "Prediction": 7
         },
         {
          "Class": 8,
          "Prediction": 5
         },
         {
          "Class": 8,
          "Prediction": 5
         },
         {
          "Class": 2,
          "Prediction": 3
         },
         {
          "Class": 14,
          "Prediction": 13
         },
         {
          "Class": 12,
          "Prediction": 9
         },
         {
          "Class": 3,
          "Prediction": 3
         },
         {
          "Class": 14,
          "Prediction": 9
         },
         {
          "Class": 14,
          "Prediction": 8
         },
         {
          "Class": 4,
          "Prediction": 2
         },
         {
          "Class": 10,
          "Prediction": 6
         },
         {
          "Class": 4,
          "Prediction": 3
         },
         {
          "Class": 2,
          "Prediction": 3
         },
         {
          "Class": 8,
          "Prediction": 8
         },
         {
          "Class": 9,
          "Prediction": 9
         },
         {
          "Class": 12,
          "Prediction": 11
         },
         {
          "Class": 14,
          "Prediction": 14
         },
         {
          "Class": 8,
          "Prediction": 7
         },
         {
          "Class": 13,
          "Prediction": 15
         },
         {
          "Class": 10,
          "Prediction": 9
         },
         {
          "Class": 12,
          "Prediction": 9
         },
         {
          "Class": 2,
          "Prediction": 4
         },
         {
          "Class": 12,
          "Prediction": 10
         },
         {
          "Class": 7,
          "Prediction": 7
         },
         {
          "Class": 8,
          "Prediction": 9
         },
         {
          "Class": 7,
          "Prediction": 6
         },
         {
          "Class": 9,
          "Prediction": 8
         },
         {
          "Class": 12,
          "Prediction": 9
         },
         {
          "Class": 8,
          "Prediction": 8
         },
         {
          "Class": 9,
          "Prediction": 6
         },
         {
          "Class": 6,
          "Prediction": 7
         },
         {
          "Class": 13,
          "Prediction": 12
         },
         {
          "Class": 12,
          "Prediction": 10
         },
         {
          "Class": 12,
          "Prediction": 11
         },
         {
          "Class": 14,
          "Prediction": 11
         },
         {
          "Class": 4,
          "Prediction": 3
         },
         {
          "Class": 10,
          "Prediction": 8
         },
         {
          "Class": 14,
          "Prediction": 13
         },
         {
          "Class": 10,
          "Prediction": 6
         },
         {
          "Class": 2,
          "Prediction": 4
         },
         {
          "Class": 6,
          "Prediction": 7
         },
         {
          "Class": 3,
          "Prediction": 4
         },
         {
          "Class": 7,
          "Prediction": 6
         },
         {
          "Class": 14,
          "Prediction": 12
         },
         {
          "Class": 9,
          "Prediction": 6
         },
         {
          "Class": 12,
          "Prediction": 12
         },
         {
          "Class": 4,
          "Prediction": 3
         },
         {
          "Class": 14,
          "Prediction": 12
         },
         {
          "Class": 7,
          "Prediction": 7
         },
         {
          "Class": 13,
          "Prediction": 9
         },
         {
          "Class": 3,
          "Prediction": 5
         },
         {
          "Class": 10,
          "Prediction": 8
         },
         {
          "Class": 2,
          "Prediction": 5
         },
         {
          "Class": 10,
          "Prediction": 8
         },
         {
          "Class": 14,
          "Prediction": 10
         },
         {
          "Class": 13,
          "Prediction": 13
         },
         {
          "Class": 13,
          "Prediction": 12
         },
         {
          "Class": 10,
          "Prediction": 7
         },
         {
          "Class": 7,
          "Prediction": 7
         },
         {
          "Class": 9,
          "Prediction": 5
         },
         {
          "Class": 8,
          "Prediction": 7
         },
         {
          "Class": 9,
          "Prediction": 7
         },
         {
          "Class": 10,
          "Prediction": 7
         },
         {
          "Class": 9,
          "Prediction": 5
         },
         {
          "Class": 9,
          "Prediction": 7
         },
         {
          "Class": 12,
          "Prediction": 10
         },
         {
          "Class": 6,
          "Prediction": 5
         },
         {
          "Class": 12,
          "Prediction": 10
         },
         {
          "Class": 13,
          "Prediction": 13
         },
         {
          "Class": 10,
          "Prediction": 8
         },
         {
          "Class": 7,
          "Prediction": 8
         },
         {
          "Class": 6,
          "Prediction": 6
         },
         {
          "Class": 13,
          "Prediction": 12
         },
         {
          "Class": 10,
          "Prediction": 9
         },
         {
          "Class": 9,
          "Prediction": 7
         },
         {
          "Class": 2,
          "Prediction": 5
         },
         {
          "Class": 14,
          "Prediction": 13
         },
         {
          "Class": 13,
          "Prediction": 15
         },
         {
          "Class": 8,
          "Prediction": 7
         },
         {
          "Class": 8,
          "Prediction": 5
         },
         {
          "Class": 10,
          "Prediction": 8
         },
         {
          "Class": 10,
          "Prediction": 8
         },
         {
          "Class": 9,
          "Prediction": 8
         },
         {
          "Class": 14,
          "Prediction": 9
         },
         {
          "Class": 10,
          "Prediction": 8
         },
         {
          "Class": 2,
          "Prediction": 2
         },
         {
          "Class": 12,
          "Prediction": 9
         },
         {
          "Class": 10,
          "Prediction": 7
         },
         {
          "Class": 8,
          "Prediction": 6
         },
         {
          "Class": 3,
          "Prediction": 4
         },
         {
          "Class": 8,
          "Prediction": 7
         },
         {
          "Class": 13,
          "Prediction": 11
         },
         {
          "Class": 13,
          "Prediction": 11
         },
         {
          "Class": 9,
          "Prediction": 8
         },
         {
          "Class": 12,
          "Prediction": 11
         },
         {
          "Class": 12,
          "Prediction": 10
         },
         {
          "Class": 2,
          "Prediction": 3
         },
         {
          "Class": 8,
          "Prediction": 6
         },
         {
          "Class": 13,
          "Prediction": 12
         },
         {
          "Class": 2,
          "Prediction": 3
         },
         {
          "Class": 9,
          "Prediction": 8
         },
         {
          "Class": 12,
          "Prediction": 11
         },
         {
          "Class": 4,
          "Prediction": 3
         },
         {
          "Class": 4,
          "Prediction": 2
         },
         {
          "Class": 9,
          "Prediction": 8
         },
         {
          "Class": 12,
          "Prediction": 10
         },
         {
          "Class": 7,
          "Prediction": 6
         },
         {
          "Class": 10,
          "Prediction": 7
         },
         {
          "Class": 2,
          "Prediction": 2
         },
         {
          "Class": 3,
          "Prediction": 5
         },
         {
          "Class": 14,
          "Prediction": 11
         },
         {
          "Class": 2,
          "Prediction": 3
         },
         {
          "Class": 2,
          "Prediction": 2
         },
         {
          "Class": 2,
          "Prediction": 3
         },
         {
          "Class": 8,
          "Prediction": 8
         },
         {
          "Class": 2,
          "Prediction": 3
         },
         {
          "Class": 7,
          "Prediction": 7
         },
         {
          "Class": 3,
          "Prediction": 4
         },
         {
          "Class": 12,
          "Prediction": 9
         },
         {
          "Class": 12,
          "Prediction": 10
         },
         {
          "Class": 6,
          "Prediction": 5
         },
         {
          "Class": 14,
          "Prediction": 12
         },
         {
          "Class": 14,
          "Prediction": 12
         },
         {
          "Class": 12,
          "Prediction": 10
         },
         {
          "Class": 8,
          "Prediction": 8
         },
         {
          "Class": 6,
          "Prediction": 5
         },
         {
          "Class": 8,
          "Prediction": 6
         },
         {
          "Class": 8,
          "Prediction": 11
         },
         {
          "Class": 3,
          "Prediction": 4
         },
         {
          "Class": 12,
          "Prediction": 9
         },
         {
          "Class": 9,
          "Prediction": 6
         },
         {
          "Class": 3,
          "Prediction": 3
         },
         {
          "Class": 2,
          "Prediction": 6
         },
         {
          "Class": 12,
          "Prediction": 9
         },
         {
          "Class": 7,
          "Prediction": 6
         },
         {
          "Class": 9,
          "Prediction": 8
         },
         {
          "Class": 14,
          "Prediction": 12
         },
         {
          "Class": 8,
          "Prediction": 6
         },
         {
          "Class": 9,
          "Prediction": 7
         },
         {
          "Class": 4,
          "Prediction": 2
         },
         {
          "Class": 10,
          "Prediction": 8
         },
         {
          "Class": 2,
          "Prediction": 4
         },
         {
          "Class": 2,
          "Prediction": 6
         },
         {
          "Class": 7,
          "Prediction": 7
         },
         {
          "Class": 3,
          "Prediction": 7
         },
         {
          "Class": 13,
          "Prediction": 13
         },
         {
          "Class": 12,
          "Prediction": 10
         },
         {
          "Class": 14,
          "Prediction": 9
         },
         {
          "Class": 10,
          "Prediction": 9
         },
         {
          "Class": 6,
          "Prediction": 6
         },
         {
          "Class": 7,
          "Prediction": 7
         },
         {
          "Class": 8,
          "Prediction": 10
         },
         {
          "Class": 12,
          "Prediction": 10
         },
         {
          "Class": 3,
          "Prediction": 5
         },
         {
          "Class": 3,
          "Prediction": 6
         },
         {
          "Class": 4,
          "Prediction": 3
         },
         {
          "Class": 14,
          "Prediction": 11
         },
         {
          "Class": 13,
          "Prediction": 10
         },
         {
          "Class": 2,
          "Prediction": 3
         },
         {
          "Class": 13,
          "Prediction": 12
         },
         {
          "Class": 14,
          "Prediction": 11
         },
         {
          "Class": 3,
          "Prediction": 4
         },
         {
          "Class": 13,
          "Prediction": 10
         },
         {
          "Class": 4,
          "Prediction": 4
         },
         {
          "Class": 8,
          "Prediction": 8
         },
         {
          "Class": 4,
          "Prediction": 2
         },
         {
          "Class": 3,
          "Prediction": 3
         },
         {
          "Class": 10,
          "Prediction": 6
         },
         {
          "Class": 9,
          "Prediction": 8
         },
         {
          "Class": 4,
          "Prediction": 3
         },
         {
          "Class": 9,
          "Prediction": 7
         },
         {
          "Class": 14,
          "Prediction": 14
         },
         {
          "Class": 3,
          "Prediction": 5
         },
         {
          "Class": 10,
          "Prediction": 8
         },
         {
          "Class": 13,
          "Prediction": 13
         },
         {
          "Class": 12,
          "Prediction": 10
         },
         {
          "Class": 9,
          "Prediction": 8
         },
         {
          "Class": 13,
          "Prediction": 11
         },
         {
          "Class": 3,
          "Prediction": 3
         },
         {
          "Class": 14,
          "Prediction": 12
         },
         {
          "Class": 9,
          "Prediction": 6
         },
         {
          "Class": 14,
          "Prediction": 11
         },
         {
          "Class": 6,
          "Prediction": 6
         },
         {
          "Class": 7,
          "Prediction": 7
         },
         {
          "Class": 10,
          "Prediction": 7
         },
         {
          "Class": 4,
          "Prediction": 3
         },
         {
          "Class": 6,
          "Prediction": 6
         },
         {
          "Class": 14,
          "Prediction": 11
         },
         {
          "Class": 10,
          "Prediction": 6
         },
         {
          "Class": 13,
          "Prediction": 12
         },
         {
          "Class": 9,
          "Prediction": 9
         },
         {
          "Class": 14,
          "Prediction": 10
         },
         {
          "Class": 7,
          "Prediction": 7
         },
         {
          "Class": 13,
          "Prediction": 13
         },
         {
          "Class": 9,
          "Prediction": 7
         },
         {
          "Class": 4,
          "Prediction": 3
         },
         {
          "Class": 13,
          "Prediction": 9
         },
         {
          "Class": 6,
          "Prediction": 8
         },
         {
          "Class": 12,
          "Prediction": 11
         },
         {
          "Class": 14,
          "Prediction": 11
         },
         {
          "Class": 14,
          "Prediction": 12
         },
         {
          "Class": 4,
          "Prediction": 2
         },
         {
          "Class": 10,
          "Prediction": 7
         },
         {
          "Class": 8,
          "Prediction": 9
         },
         {
          "Class": 9,
          "Prediction": 6
         },
         {
          "Class": 9,
          "Prediction": 5
         },
         {
          "Class": 14,
          "Prediction": 10
         },
         {
          "Class": 2,
          "Prediction": 4
         },
         {
          "Class": 6,
          "Prediction": 5
         },
         {
          "Class": 6,
          "Prediction": 7
         },
         {
          "Class": 14,
          "Prediction": 10
         },
         {
          "Class": 7,
          "Prediction": 6
         },
         {
          "Class": 8,
          "Prediction": 9
         },
         {
          "Class": 10,
          "Prediction": 11
         },
         {
          "Class": 13,
          "Prediction": 13
         },
         {
          "Class": 8,
          "Prediction": 6
         },
         {
          "Class": 13,
          "Prediction": 13
         },
         {
          "Class": 9,
          "Prediction": 8
         },
         {
          "Class": 3,
          "Prediction": 3
         },
         {
          "Class": 2,
          "Prediction": 3
         },
         {
          "Class": 3,
          "Prediction": 3
         },
         {
          "Class": 3,
          "Prediction": 4
         },
         {
          "Class": 2,
          "Prediction": 4
         },
         {
          "Class": 14,
          "Prediction": 12
         },
         {
          "Class": 12,
          "Prediction": 11
         },
         {
          "Class": 9,
          "Prediction": 7
         },
         {
          "Class": 2,
          "Prediction": 3
         },
         {
          "Class": 14,
          "Prediction": 9
         },
         {
          "Class": 3,
          "Prediction": 6
         },
         {
          "Class": 2,
          "Prediction": 3
         },
         {
          "Class": 3,
          "Prediction": 4
         },
         {
          "Class": 13,
          "Prediction": 14
         },
         {
          "Class": 6,
          "Prediction": 6
         },
         {
          "Class": 8,
          "Prediction": 8
         },
         {
          "Class": 2,
          "Prediction": 4
         },
         {
          "Class": 9,
          "Prediction": 6
         },
         {
          "Class": 3,
          "Prediction": 4
         },
         {
          "Class": 12,
          "Prediction": 9
         },
         {
          "Class": 2,
          "Prediction": 4
         },
         {
          "Class": 8,
          "Prediction": 6
         },
         {
          "Class": 2,
          "Prediction": 4
         },
         {
          "Class": 7,
          "Prediction": 7
         },
         {
          "Class": 13,
          "Prediction": 13
         },
         {
          "Class": 10,
          "Prediction": 8
         },
         {
          "Class": 4,
          "Prediction": 3
         },
         {
          "Class": 12,
          "Prediction": 9
         },
         {
          "Class": 9,
          "Prediction": 5
         },
         {
          "Class": 6,
          "Prediction": 7
         },
         {
          "Class": 14,
          "Prediction": 13
         },
         {
          "Class": 13,
          "Prediction": 10
         },
         {
          "Class": 13,
          "Prediction": 13
         },
         {
          "Class": 13,
          "Prediction": 14
         },
         {
          "Class": 8,
          "Prediction": 9
         },
         {
          "Class": 14,
          "Prediction": 9
         },
         {
          "Class": 8,
          "Prediction": 7
         },
         {
          "Class": 8,
          "Prediction": 7
         },
         {
          "Class": 14,
          "Prediction": 11
         },
         {
          "Class": 13,
          "Prediction": 13
         },
         {
          "Class": 10,
          "Prediction": 7
         },
         {
          "Class": 12,
          "Prediction": 9
         },
         {
          "Class": 9,
          "Prediction": 7
         },
         {
          "Class": 8,
          "Prediction": 8
         },
         {
          "Class": 12,
          "Prediction": 10
         },
         {
          "Class": 2,
          "Prediction": 2
         },
         {
          "Class": 12,
          "Prediction": 10
         },
         {
          "Class": 7,
          "Prediction": 6
         },
         {
          "Class": 3,
          "Prediction": 4
         },
         {
          "Class": 12,
          "Prediction": 10
         },
         {
          "Class": 14,
          "Prediction": 13
         },
         {
          "Class": 7,
          "Prediction": 7
         },
         {
          "Class": 8,
          "Prediction": 7
         },
         {
          "Class": 2,
          "Prediction": 4
         },
         {
          "Class": 12,
          "Prediction": 10
         },
         {
          "Class": 8,
          "Prediction": 8
         },
         {
          "Class": 2,
          "Prediction": 2
         },
         {
          "Class": 14,
          "Prediction": 13
         },
         {
          "Class": 8,
          "Prediction": 6
         },
         {
          "Class": 7,
          "Prediction": 7
         },
         {
          "Class": 7,
          "Prediction": 7
         },
         {
          "Class": 2,
          "Prediction": 4
         },
         {
          "Class": 3,
          "Prediction": 4
         },
         {
          "Class": 14,
          "Prediction": 9
         },
         {
          "Class": 9,
          "Prediction": 6
         },
         {
          "Class": 7,
          "Prediction": 6
         },
         {
          "Class": 14,
          "Prediction": 12
         },
         {
          "Class": 13,
          "Prediction": 14
         },
         {
          "Class": 4,
          "Prediction": 2
         },
         {
          "Class": 12,
          "Prediction": 9
         },
         {
          "Class": 6,
          "Prediction": 7
         },
         {
          "Class": 12,
          "Prediction": 11
         },
         {
          "Class": 7,
          "Prediction": 5
         },
         {
          "Class": 4,
          "Prediction": 3
         },
         {
          "Class": 2,
          "Prediction": 2
         },
         {
          "Class": 3,
          "Prediction": 5
         },
         {
          "Class": 4,
          "Prediction": 2
         },
         {
          "Class": 4,
          "Prediction": 4
         },
         {
          "Class": 14,
          "Prediction": 11
         },
         {
          "Class": 3,
          "Prediction": 5
         },
         {
          "Class": 13,
          "Prediction": 12
         },
         {
          "Class": 12,
          "Prediction": 10
         },
         {
          "Class": 14,
          "Prediction": 14
         },
         {
          "Class": 10,
          "Prediction": 8
         },
         {
          "Class": 10,
          "Prediction": 6
         },
         {
          "Class": 7,
          "Prediction": 6
         },
         {
          "Class": 7,
          "Prediction": 7
         },
         {
          "Class": 7,
          "Prediction": 6
         },
         {
          "Class": 13,
          "Prediction": 9
         },
         {
          "Class": 13,
          "Prediction": 8
         },
         {
          "Class": 2,
          "Prediction": 2
         },
         {
          "Class": 13,
          "Prediction": 13
         },
         {
          "Class": 6,
          "Prediction": 6
         },
         {
          "Class": 10,
          "Prediction": 9
         },
         {
          "Class": 13,
          "Prediction": 14
         },
         {
          "Class": 14,
          "Prediction": 12
         },
         {
          "Class": 14,
          "Prediction": 11
         },
         {
          "Class": 14,
          "Prediction": 10
         },
         {
          "Class": 6,
          "Prediction": 6
         },
         {
          "Class": 12,
          "Prediction": 10
         },
         {
          "Class": 3,
          "Prediction": 4
         },
         {
          "Class": 3,
          "Prediction": 7
         },
         {
          "Class": 6,
          "Prediction": 5
         },
         {
          "Class": 6,
          "Prediction": 5
         },
         {
          "Class": 7,
          "Prediction": 6
         },
         {
          "Class": 6,
          "Prediction": 7
         },
         {
          "Class": 4,
          "Prediction": 3
         },
         {
          "Class": 13,
          "Prediction": 11
         },
         {
          "Class": 9,
          "Prediction": 6
         },
         {
          "Class": 3,
          "Prediction": 3
         },
         {
          "Class": 9,
          "Prediction": 8
         },
         {
          "Class": 8,
          "Prediction": 6
         },
         {
          "Class": 7,
          "Prediction": 6
         },
         {
          "Class": 14,
          "Prediction": 10
         },
         {
          "Class": 3,
          "Prediction": 2
         },
         {
          "Class": 7,
          "Prediction": 6
         },
         {
          "Class": 7,
          "Prediction": 7
         },
         {
          "Class": 14,
          "Prediction": 11
         },
         {
          "Class": 8,
          "Prediction": 7
         },
         {
          "Class": 9,
          "Prediction": 8
         },
         {
          "Class": 8,
          "Prediction": 9
         },
         {
          "Class": 13,
          "Prediction": 11
         },
         {
          "Class": 3,
          "Prediction": 4
         },
         {
          "Class": 9,
          "Prediction": 9
         },
         {
          "Class": 7,
          "Prediction": 5
         },
         {
          "Class": 6,
          "Prediction": 7
         },
         {
          "Class": 4,
          "Prediction": 1
         },
         {
          "Class": 6,
          "Prediction": 5
         },
         {
          "Class": 6,
          "Prediction": 6
         },
         {
          "Class": 8,
          "Prediction": 7
         },
         {
          "Class": 7,
          "Prediction": 5
         },
         {
          "Class": 4,
          "Prediction": 3
         },
         {
          "Class": 12,
          "Prediction": 9
         },
         {
          "Class": 2,
          "Prediction": 3
         },
         {
          "Class": 8,
          "Prediction": 6
         },
         {
          "Class": 12,
          "Prediction": 11
         },
         {
          "Class": 12,
          "Prediction": 9
         },
         {
          "Class": 3,
          "Prediction": 5
         },
         {
          "Class": 14,
          "Prediction": 12
         },
         {
          "Class": 10,
          "Prediction": 8
         },
         {
          "Class": 2,
          "Prediction": 4
         },
         {
          "Class": 10,
          "Prediction": 8
         },
         {
          "Class": 2,
          "Prediction": 3
         },
         {
          "Class": 12,
          "Prediction": 9
         },
         {
          "Class": 2,
          "Prediction": 4
         },
         {
          "Class": 13,
          "Prediction": 12
         },
         {
          "Class": 4,
          "Prediction": 3
         },
         {
          "Class": 14,
          "Prediction": 13
         },
         {
          "Class": 2,
          "Prediction": 4
         },
         {
          "Class": 13,
          "Prediction": 12
         },
         {
          "Class": 3,
          "Prediction": 6
         },
         {
          "Class": 4,
          "Prediction": 3
         },
         {
          "Class": 2,
          "Prediction": 6
         },
         {
          "Class": 4,
          "Prediction": 4
         },
         {
          "Class": 9,
          "Prediction": 7
         },
         {
          "Class": 13,
          "Prediction": 11
         },
         {
          "Class": 10,
          "Prediction": 10
         },
         {
          "Class": 2,
          "Prediction": 3
         },
         {
          "Class": 8,
          "Prediction": 8
         },
         {
          "Class": 9,
          "Prediction": 6
         },
         {
          "Class": 2,
          "Prediction": 6
         },
         {
          "Class": 3,
          "Prediction": 5
         },
         {
          "Class": 10,
          "Prediction": 9
         },
         {
          "Class": 8,
          "Prediction": 7
         },
         {
          "Class": 14,
          "Prediction": 13
         },
         {
          "Class": 7,
          "Prediction": 6
         },
         {
          "Class": 3,
          "Prediction": 5
         },
         {
          "Class": 6,
          "Prediction": 7
         },
         {
          "Class": 7,
          "Prediction": 6
         },
         {
          "Class": 4,
          "Prediction": 3
         },
         {
          "Class": 12,
          "Prediction": 9
         },
         {
          "Class": 2,
          "Prediction": 4
         },
         {
          "Class": 9,
          "Prediction": 6
         },
         {
          "Class": 14,
          "Prediction": 14
         },
         {
          "Class": 12,
          "Prediction": 9
         },
         {
          "Class": 10,
          "Prediction": 7
         },
         {
          "Class": 2,
          "Prediction": 3
         },
         {
          "Class": 9,
          "Prediction": 7
         },
         {
          "Class": 2,
          "Prediction": 3
         },
         {
          "Class": 2,
          "Prediction": 3
         },
         {
          "Class": 3,
          "Prediction": 4
         },
         {
          "Class": 7,
          "Prediction": 6
         },
         {
          "Class": 6,
          "Prediction": 5
         },
         {
          "Class": 8,
          "Prediction": 9
         },
         {
          "Class": 14,
          "Prediction": 13
         },
         {
          "Class": 7,
          "Prediction": 6
         },
         {
          "Class": 10,
          "Prediction": 8
         },
         {
          "Class": 10,
          "Prediction": 8
         },
         {
          "Class": 9,
          "Prediction": 6
         },
         {
          "Class": 9,
          "Prediction": 7
         },
         {
          "Class": 9,
          "Prediction": 8
         },
         {
          "Class": 2,
          "Prediction": 2
         },
         {
          "Class": 8,
          "Prediction": 10
         },
         {
          "Class": 9,
          "Prediction": 7
         },
         {
          "Class": 6,
          "Prediction": 6
         },
         {
          "Class": 2,
          "Prediction": 4
         },
         {
          "Class": 10,
          "Prediction": 7
         },
         {
          "Class": 9,
          "Prediction": 7
         },
         {
          "Class": 3,
          "Prediction": 4
         },
         {
          "Class": 10,
          "Prediction": 8
         },
         {
          "Class": 14,
          "Prediction": 13
         },
         {
          "Class": 7,
          "Prediction": 7
         },
         {
          "Class": 7,
          "Prediction": 7
         },
         {
          "Class": 3,
          "Prediction": 6
         },
         {
          "Class": 2,
          "Prediction": 4
         },
         {
          "Class": 2,
          "Prediction": 3
         },
         {
          "Class": 9,
          "Prediction": 7
         },
         {
          "Class": 6,
          "Prediction": 5
         },
         {
          "Class": 6,
          "Prediction": 5
         },
         {
          "Class": 3,
          "Prediction": 6
         },
         {
          "Class": 13,
          "Prediction": 13
         },
         {
          "Class": 7,
          "Prediction": 7
         },
         {
          "Class": 10,
          "Prediction": 7
         },
         {
          "Class": 14,
          "Prediction": 9
         },
         {
          "Class": 3,
          "Prediction": 5
         },
         {
          "Class": 10,
          "Prediction": 8
         },
         {
          "Class": 10,
          "Prediction": 7
         },
         {
          "Class": 10,
          "Prediction": 6
         },
         {
          "Class": 12,
          "Prediction": 9
         },
         {
          "Class": 3,
          "Prediction": 3
         },
         {
          "Class": 2,
          "Prediction": 5
         },
         {
          "Class": 8,
          "Prediction": 7
         },
         {
          "Class": 6,
          "Prediction": 5
         },
         {
          "Class": 4,
          "Prediction": 4
         },
         {
          "Class": 14,
          "Prediction": 9
         },
         {
          "Class": 14,
          "Prediction": 9
         },
         {
          "Class": 7,
          "Prediction": 6
         },
         {
          "Class": 4,
          "Prediction": 3
         },
         {
          "Class": 4,
          "Prediction": 3
         },
         {
          "Class": 13,
          "Prediction": 13
         },
         {
          "Class": 13,
          "Prediction": 11
         },
         {
          "Class": 13,
          "Prediction": 11
         },
         {
          "Class": 10,
          "Prediction": 7
         },
         {
          "Class": 7,
          "Prediction": 7
         },
         {
          "Class": 10,
          "Prediction": 6
         },
         {
          "Class": 4,
          "Prediction": 2
         },
         {
          "Class": 14,
          "Prediction": 14
         },
         {
          "Class": 8,
          "Prediction": 8
         },
         {
          "Class": 14,
          "Prediction": 12
         },
         {
          "Class": 7,
          "Prediction": 4
         },
         {
          "Class": 4,
          "Prediction": 5
         },
         {
          "Class": 6,
          "Prediction": 6
         },
         {
          "Class": 12,
          "Prediction": 11
         },
         {
          "Class": 12,
          "Prediction": 9
         },
         {
          "Class": 8,
          "Prediction": 7
         },
         {
          "Class": 2,
          "Prediction": 3
         },
         {
          "Class": 8,
          "Prediction": 8
         },
         {
          "Class": 6,
          "Prediction": 5
         },
         {
          "Class": 8,
          "Prediction": 8
         },
         {
          "Class": 4,
          "Prediction": 3
         },
         {
          "Class": 4,
          "Prediction": 3
         },
         {
          "Class": 3,
          "Prediction": 6
         },
         {
          "Class": 4,
          "Prediction": 3
         },
         {
          "Class": 10,
          "Prediction": 7
         },
         {
          "Class": 7,
          "Prediction": 5
         },
         {
          "Class": 2,
          "Prediction": 4
         },
         {
          "Class": 9,
          "Prediction": 9
         },
         {
          "Class": 10,
          "Prediction": 9
         },
         {
          "Class": 8,
          "Prediction": 8
         },
         {
          "Class": 12,
          "Prediction": 9
         },
         {
          "Class": 9,
          "Prediction": 8
         },
         {
          "Class": 7,
          "Prediction": 6
         },
         {
          "Class": 4,
          "Prediction": 3
         },
         {
          "Class": 6,
          "Prediction": 6
         }
        ]
       },
       "layer": [
        {
         "data": {
          "name": "data-7886c87d7a0704f9d9c5a5093b66924c"
         },
         "encoding": {
          "x": {
           "bin": true,
           "field": "Class",
           "type": "quantitative"
          },
          "y": {
           "aggregate": "count",
           "type": "quantitative"
          }
         },
         "mark": "bar"
        },
        {
         "data": {
          "name": "data-7886c87d7a0704f9d9c5a5093b66924c"
         },
         "encoding": {
          "x": {
           "bin": true,
           "field": "Prediction",
           "type": "quantitative"
          },
          "y": {
           "aggregate": "count",
           "type": "quantitative"
          }
         },
         "mark": "bar"
        }
       ]
      },
      "image/png": "[encoded data removed]",
      "text/plain": [
       "<VegaLite 2 object>\n",
       "\n",
       "If you see this message, it means the renderer has not been properly enabled\n",
       "for the frontend that you are using. For more information, see\n",
       "https://altair-viz.github.io/user_guide/troubleshooting.html\n"
      ]
     },
     "execution_count": 53,
     "metadata": {},
     "output_type": "execute_result"
    }
   ],
   "source": [
    "true = alt.Chart(results_df).mark_bar().encode(\n",
    "x = alt.X('Class', bin = True),\n",
    "    y = 'count()'\n",
    ")\n",
    "\n",
    "pred = alt.Chart(results_df).mark_bar().encode(\n",
    "x = alt.X('Prediction', bin = True),\n",
    "    y = 'count()'\n",
    ")\n",
    "\n",
    "alt.layer(\n",
    "    true,\n",
    "    pred\n",
    ")"
   ]
  },
  {
   "cell_type": "code",
   "execution_count": 20,
   "metadata": {},
   "outputs": [
    {
     "name": "stdout",
     "output_type": "stream",
     "text": [
      "0.0\n",
      "0.7194305265776184\n"
     ]
    },
    {
     "data": {
      "image/png": "[encoded data removed]",
      "text/plain": [
       "<matplotlib.figure.Figure at 0x1a23b5ae10>"
      ]
     },
     "metadata": {},
     "output_type": "display_data"
    }
   ],
   "source": [
    "# our benchmark is just guessing the average\n",
    "benchmark = np.mean(y_train)\n",
    "print(r2_score(y_train, [benchmark] * y_train.shape[0]))\n",
    "\n",
    "print(r2_score(y_train, past_preds))\n",
    "plt.scatter(y_train, past_preds, alpha=0.1)\n",
    "plt.xlabel('actual')\n",
    "plt.ylabel('predicted')\n",
    "plt.show()"
   ]
  },
  {
   "cell_type": "code",
   "execution_count": 22,
   "metadata": {},
   "outputs": [
    {
     "data": {
      "image/png": "[encoded data removed]",
      "text/plain": [
       "<matplotlib.figure.Figure at 0x1a2d9f9550>"
      ]
     },
     "metadata": {},
     "output_type": "display_data"
    }
   ],
   "source": [
    "df['Class'].iloc[-300:].plot()\n",
    "plt.plot(df.index[-300:], future_preds[-300:], label='predictions')\n",
    "_ = plt.legend()"
   ]
  },
  {
   "cell_type": "code",
   "execution_count": null,
   "metadata": {},
   "outputs": [],
   "source": []
  }
 ],
 "metadata": {
  "kernelspec": {
   "display_name": "Python 3",
   "language": "python",
   "name": "python3"
  },
  "language_info": {
   "codemirror_mode": {
    "name": "ipython",
    "version": 3
   },
   "file_extension": ".py",
   "mimetype": "text/x-python",
   "name": "python",
   "nbconvert_exporter": "python",
   "pygments_lexer": "ipython3",
   "version": "3.6.4"
  }
 },
 "nbformat": 4,
 "nbformat_minor": 2
}
