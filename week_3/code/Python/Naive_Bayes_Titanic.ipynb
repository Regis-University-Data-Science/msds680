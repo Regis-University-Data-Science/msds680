{
 "cells": [
  {
   "cell_type": "code",
   "execution_count": 17,
   "metadata": {},
   "outputs": [],
   "source": [
    "import pandas as pd\n",
    "import numpy as np\n",
    "import matplotlib.pyplot as plt\n",
    "import time\n",
    "from sklearn.model_selection import train_test_split\n",
    "from sklearn.naive_bayes import GaussianNB, BernoulliNB, MultinomialNB\n",
    "%matplotlib inline"
   ]
  },
  {
   "cell_type": "code",
   "execution_count": 3,
   "metadata": {},
   "outputs": [],
   "source": [
    "# Importing dataset\n",
    "data = pd.read_csv(\"../Week_1/Titanic_Demo/all/train.csv\")"
   ]
  },
  {
   "cell_type": "code",
   "execution_count": 5,
   "metadata": {},
   "outputs": [],
   "source": [
    "# Convert categorical variable to numeric\n",
    "data[\"Sex_cleaned\"]=np.where(data[\"Sex\"]==\"male\",0,1)\n",
    "data[\"Embarked_cleaned\"]=np.where(data[\"Embarked\"]==\"S\",0, np.where(\n",
    "    data[\"Embarked\"]==\"C\",1,np.where(\n",
    "        data[\"Embarked\"]==\"Q\",2,3)))"
   ]
  },
  {
   "cell_type": "code",
   "execution_count": 6,
   "metadata": {},
   "outputs": [],
   "source": [
    "# Cleaning dataset of NaN\n",
    "data=data[[\n",
    "    \"Survived\",\n",
    "    \"Pclass\",\n",
    "    \"Sex_cleaned\",\n",
    "    \"Age\",\n",
    "    \"SibSp\",\n",
    "    \"Parch\",\n",
    "    \"Fare\",\n",
    "    \"Embarked_cleaned\"\n",
    "]].dropna(axis=0, how='any')\n",
    "\n",
    "# Split dataset in training and test datasets\n",
    "X_train, X_test = train_test_split(data, test_size=0.5, random_state=int(time.time()))"
   ]
  },
  {
   "cell_type": "code",
   "execution_count": 7,
   "metadata": {},
   "outputs": [],
   "source": [
    "# Instantiate the classifier\n",
    "gnb = GaussianNB()\n",
    "used_features =[\n",
    "    \"Pclass\",\n",
    "    \"Sex_cleaned\",\n",
    "    \"Age\",\n",
    "    \"SibSp\",\n",
    "    \"Parch\",\n",
    "    \"Fare\",\n",
    "    \"Embarked_cleaned\"\n",
    "]"
   ]
  },
  {
   "cell_type": "code",
   "execution_count": 8,
   "metadata": {},
   "outputs": [],
   "source": [
    "# Train classifier\n",
    "gnb.fit(\n",
    "    X_train[used_features].values,\n",
    "    X_train[\"Survived\"]\n",
    ")\n",
    "y_pred = gnb.predict(X_test[used_features])"
   ]
  },
  {
   "cell_type": "code",
   "execution_count": 13,
   "metadata": {},
   "outputs": [
    {
     "name": "stdout",
     "output_type": "stream",
     "text": [
      "Number of mislabeled points out of a total 357 points: 95, performance 73.39%\n"
     ]
    }
   ],
   "source": [
    "# Print results\n",
    "print(f'Number of mislabeled points out of a total {X_test.shape[0]} ' +\n",
    "    f'points: {(X_test[\"Survived\"] != y_pred).sum()}, ' +\n",
    "    f'performance {100*(1-(X_test[\"Survived\"] != y_pred).sum()/X_test.shape[0]):05.2f}%')"
   ]
  },
  {
   "cell_type": "markdown",
   "metadata": {},
   "source": [
    "# Illustration with 1 feature\n",
    "\n",
    "Let’s restrain the classification using the Fare information only. Here we compute the P(Survival = 1) and P(Survival = 0) probabilities:"
   ]
  },
  {
   "cell_type": "code",
   "execution_count": 16,
   "metadata": {},
   "outputs": [
    {
     "name": "stdout",
     "output_type": "stream",
     "text": [
      "Survival prob = 36.69%, Not survival prob = 63.31%\n"
     ]
    }
   ],
   "source": [
    "mean_survival=np.mean(X_train[\"Survived\"])\n",
    "mean_not_survival=1-mean_survival\n",
    "print(f'Survival prob = {100*mean_survival:03.2f}%, Not survival prob = {100*mean_not_survival:03.2f}%')\n",
    "#       .format(,))"
   ]
  },
  {
   "cell_type": "markdown",
   "metadata": {},
   "source": [
    "Then, according to the formula 3, we just need to find the probability distribution function P(fare| Survival = 0) and P(fare| Survival = 1). We choose the Gaussian Naive Bayes classifier. Thus we have to make the assumption that those distributions are Gaussian.\n",
    "\n",
    "$$\n",
    "f(x| \\mu, \\sigma) = \\frac{1}{{\\sqrt {2\\pi\\sigma } }}e^{-\\frac{({x - \\mu })^2 } {{2\\sigma ^2 }}}\n",
    "$$\n",
    "\n",
    "Formula 5: Gaussian formula (σ: standard deviation / μ: mean)\n",
    "\n",
    "Then we have to find the mean and the standard deviation of the Fare datasets for different Survival values. We obtain the following results:"
   ]
  },
  {
   "cell_type": "code",
   "execution_count": 18,
   "metadata": {},
   "outputs": [
    {
     "name": "stdout",
     "output_type": "stream",
     "text": [
      "mean_fare_survived = 52.38\n",
      "std_fare_survived = 67.33\n",
      "mean_fare_not_survived = 22.86\n",
      "std_fare_not_survived = 33.01\n"
     ]
    }
   ],
   "source": [
    "mean_fare_survived = np.mean(X_train[X_train[\"Survived\"]==1][\"Fare\"])\n",
    "std_fare_survived = np.std(X_train[X_train[\"Survived\"]==1][\"Fare\"])\n",
    "mean_fare_not_survived = np.mean(X_train[X_train[\"Survived\"]==0][\"Fare\"])\n",
    "std_fare_not_survived = np.std(X_train[X_train[\"Survived\"]==0][\"Fare\"])\n",
    "\n",
    "print(f\"mean_fare_survived = {mean_fare_survived:03.2f}\")\n",
    "print(f\"std_fare_survived = {std_fare_survived:03.2f}\")\n",
    "print(f\"mean_fare_not_survived = {mean_fare_not_survived:03.2f}\")\n",
    "print(f\"std_fare_not_survived = {std_fare_not_survived:03.2f}\")"
   ]
  },
  {
   "cell_type": "markdown",
   "metadata": {},
   "source": [
    "$$"
   ]
  },
  {
   "cell_type": "code",
   "execution_count": null,
   "metadata": {},
   "outputs": [],
   "source": []
  }
 ],
 "metadata": {
  "kernelspec": {
   "display_name": "Python 3",
   "language": "python",
   "name": "python3"
  },
  "language_info": {
   "codemirror_mode": {
    "name": "ipython",
    "version": 3
   },
   "file_extension": ".py",
   "mimetype": "text/x-python",
   "name": "python",
   "nbconvert_exporter": "python",
   "pygments_lexer": "ipython3",
   "version": "3.6.4"
  }
 },
 "nbformat": 4,
 "nbformat_minor": 2
}
